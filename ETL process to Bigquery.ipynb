{
 "cells": [
  {
   "cell_type": "code",
   "execution_count": 1,
   "id": "02f3282f",
   "metadata": {
    "ExecuteTime": {
     "end_time": "2022-11-07T03:21:10.587804Z",
     "start_time": "2022-11-07T03:21:09.809946Z"
    },
    "id": "02f3282f"
   },
   "outputs": [],
   "source": [
    "# import libraries\n",
    "import pandas as pd\n",
    "import numpy as np\n",
    "from sodapy import Socrata\n",
    "from google.cloud import bigquery\n",
    "from google.oauth2 import service_account"
   ]
  },
  {
   "cell_type": "markdown",
   "id": "1dd8584e",
   "metadata": {
    "id": "1dd8584e"
   },
   "source": [
    "# Building an ETL Pipeline"
   ]
  },
  {
   "cell_type": "markdown",
   "id": "5cc343cd",
   "metadata": {
    "id": "5cc343cd"
   },
   "source": [
    "### Setup your NYC Open Data variables ( app token change needed) "
   ]
  },
  {
   "cell_type": "code",
   "execution_count": 2,
   "id": "4910802f",
   "metadata": {
    "ExecuteTime": {
     "end_time": "2022-11-07T03:21:11.197185Z",
     "start_time": "2022-11-07T03:21:11.188326Z"
    },
    "id": "4910802f"
   },
   "outputs": [],
   "source": [
    "data_url = 'data.cityofnewyork.us'\n",
    "data_set = 'ipu4-2q9a'\n",
    "app_token = ''"
   ]
  },
  {
   "cell_type": "code",
   "execution_count": 3,
   "id": "67f824ef",
   "metadata": {
    "ExecuteTime": {
     "end_time": "2022-11-07T03:21:11.575790Z",
     "start_time": "2022-11-07T03:21:11.562424Z"
    },
    "id": "67f824ef",
    "outputId": "86daf83d-ef05-4745-d304-8cf67922de2a"
   },
   "outputs": [
    {
     "name": "stdout",
     "output_type": "stream",
     "text": [
      "nyc open data client name is: <sodapy.socrata.Socrata object at 0x000002282752A220>\n",
      "nyc open data client data type is: <class 'sodapy.socrata.Socrata'>\n"
     ]
    }
   ],
   "source": [
    "nyc_open_data_client = Socrata(data_url, app_token, timeout = 200)\n",
    "print(f\"nyc open data client name is: {nyc_open_data_client}\")\n",
    "print(f\"nyc open data client data type is: {type(nyc_open_data_client)}\")"
   ]
  },
  {
   "cell_type": "markdown",
   "id": "270b9aaa",
   "metadata": {
    "id": "270b9aaa"
   },
   "source": [
    "### Step 2: Setup your Google BigQuery variables (Path & dataset_id change needed)"
   ]
  },
  {
   "cell_type": "code",
   "execution_count": 4,
   "id": "5e75f15f",
   "metadata": {
    "ExecuteTime": {
     "end_time": "2022-11-07T03:21:12.256181Z",
     "start_time": "2022-11-07T03:21:12.247718Z"
    },
    "id": "5e75f15f"
   },
   "outputs": [],
   "source": [
    "key_path =  r''"
   ]
  },
  {
   "cell_type": "code",
   "execution_count": 5,
   "id": "0c204f3a",
   "metadata": {
    "ExecuteTime": {
     "end_time": "2022-11-07T03:21:12.540671Z",
     "start_time": "2022-11-07T03:21:12.515883Z"
    },
    "id": "0c204f3a",
    "outputId": "0683efa4-e946-4697-a4fa-fd52f20c4f59"
   },
   "outputs": [
    {
     "name": "stdout",
     "output_type": "stream",
     "text": [
      "bigquery client name is: <google.cloud.bigquery.client.Client object at 0x000002282A6659D0>\n",
      "bigquery client data type is: <class 'google.cloud.bigquery.client.Client'>\n"
     ]
    }
   ],
   "source": [
    "# run this cell without changing anything to setup your credentials\n",
    "credentials = service_account.Credentials.from_service_account_file(key_path,\n",
    "                                                                    scopes=[\"https://www.googleapis.com/auth/cloud-platform\"],)\n",
    "bigquery_client = bigquery.Client(credentials = credentials,\n",
    "                                 project = credentials.project_id)\n",
    "\n",
    "print(f\"bigquery client name is: {bigquery_client}\")\n",
    "print(f\"bigquery client data type is: {type(bigquery_client)}\")"
   ]
  },
  {
   "cell_type": "code",
   "execution_count": 6,
   "id": "f4ac77c6",
   "metadata": {
    "ExecuteTime": {
     "end_time": "2022-11-07T03:21:12.767455Z",
     "start_time": "2022-11-07T03:21:12.759644Z"
    },
    "id": "f4ac77c6",
    "outputId": "679e9bab-6cf8-4c36-c45a-757e7a46be84"
   },
   "outputs": [
    {
     "name": "stdout",
     "output_type": "stream",
     "text": [
      "your dataset_id is: cis-9440-361019.project\n"
     ]
    }
   ],
   "source": [
    "dataset_id = ''   # PASTE THIS DATASET ID FROM ABOVE STEPS\n",
    "\n",
    "dataset_id = dataset_id.replace(':', '.')\n",
    "print(f\"your dataset_id is: {dataset_id}\")"
   ]
  },
  {
   "cell_type": "markdown",
   "id": "dbce17aa",
   "metadata": {
    "id": "dbce17aa"
   },
   "source": [
    "### Step 3: Extract data"
   ]
  },
  {
   "cell_type": "markdown",
   "id": "bb6b4c84",
   "metadata": {
    "id": "bb6b4c84"
   },
   "source": [
    "#### The fist dataset (DOB Permit Issuance)"
   ]
  },
  {
   "cell_type": "code",
   "execution_count": 7,
   "id": "c3ddc13c",
   "metadata": {
    "ExecuteTime": {
     "end_time": "2022-11-07T03:21:16.258874Z",
     "start_time": "2022-11-07T03:21:13.410172Z"
    },
    "id": "c3ddc13c",
    "outputId": "ec629b28-9212-419c-f687-cf0984a1d519"
   },
   "outputs": [
    {
     "name": "stdout",
     "output_type": "stream",
     "text": [
      "total records in ipu4-2q9a: 3922561\n"
     ]
    }
   ],
   "source": [
    "# Get the total number of records in our the entire data set\n",
    "total_record_count = nyc_open_data_client.get(data_set, select = \"COUNT(*)\")\n",
    "print(f\"total records in {data_set}: {total_record_count[0]['COUNT']}\")"
   ]
  },
  {
   "cell_type": "code",
   "execution_count": 8,
   "id": "dd38a91d",
   "metadata": {
    "ExecuteTime": {
     "end_time": "2022-11-07T03:21:16.543669Z",
     "start_time": "2022-11-07T03:21:16.262974Z"
    },
    "id": "dd38a91d",
    "outputId": "8964b5bb-9b86-44fd-a09a-7b545096bade"
   },
   "outputs": [
    {
     "name": "stdout",
     "output_type": "stream",
     "text": [
      "target records in ipu4-2q9a: 258586\n"
     ]
    }
   ],
   "source": [
    "target_record_count = nyc_open_data_client.get(data_set,\n",
    "                                              where = \"permit_type='NB'\",\n",
    "                                              select= \"COUNT(*)\")\n",
    "\n",
    "\n",
    "print(f\"target records in {data_set}: {int(target_record_count[0]['COUNT'])}\")"
   ]
  },
  {
   "cell_type": "code",
   "execution_count": 9,
   "id": "04721979",
   "metadata": {
    "ExecuteTime": {
     "end_time": "2022-11-07T03:21:16.557911Z",
     "start_time": "2022-11-07T03:21:16.546989Z"
    },
    "id": "04721979"
   },
   "outputs": [],
   "source": [
    "# Now, loop through target data set to pull all rows in chunks (we cannot pull all rows at once)\n",
    "# AGAIN, UPDATE WHERE FILTER INSIDE BELOW FUNCTION\n",
    "\n",
    "def extract_socrata_data(chunk_size = 2500,\n",
    "                         data_set = data_set,\n",
    "                         where =None):\n",
    "    \n",
    "    # measure time this function takes\n",
    "    import time\n",
    "    start_time = time.time()\n",
    "    \n",
    "    # get total number or records\n",
    "    if where == None:\n",
    "        total_records = int(nyc_open_data_client.get(data_set,\n",
    "                                                     select= \"COUNT(*)\")[0][\"COUNT\"])\n",
    "    else:\n",
    "        total_records = int(nyc_open_data_client.get(data_set,\n",
    "                                                     where = where,\n",
    "                                                     select= \"COUNT(*)\")[0][\"COUNT\"])\n",
    "    \n",
    "    # start at 0, empty list for results\n",
    "    start = 0                   \n",
    "    results = []                \n",
    "\n",
    "    while True:\n",
    "\n",
    "        if where == None:\n",
    "            # fetch the set of records starting at 'start'\n",
    "            results.extend(nyc_open_data_client.get(data_set,\n",
    "                                                    offset = start,\n",
    "                                                    limit = chunk_size))\n",
    "            \n",
    "        elif where != None:\n",
    "            results.extend(nyc_open_data_client.get(data_set,\n",
    "                                                    where = where,\n",
    "                                                    offset = start,\n",
    "                                                    limit = chunk_size))\n",
    "        # update the starting record number\n",
    "        start = start + chunk_size\n",
    "\n",
    "        # if we have fetched all of the records (we have reached total_records), exit loop\n",
    "        if (start > total_records):\n",
    "            break\n",
    "\n",
    "    # convert the list into a pandas data frame\n",
    "    data = pd.DataFrame.from_records(results)\n",
    "\n",
    "    end_time = time.time()\n",
    "    print(f\"function took {round(end_time - start_time, 1)} seconds\")\n",
    "\n",
    "    print(f\"the shape of your dataframe is: {data.shape}\")\n",
    "    return data"
   ]
  },
  {
   "cell_type": "code",
   "execution_count": 10,
   "id": "fe2186a7",
   "metadata": {
    "ExecuteTime": {
     "end_time": "2022-11-07T03:22:59.564654Z",
     "start_time": "2022-11-07T03:21:58.756273Z"
    },
    "id": "fe2186a7",
    "outputId": "dbc508db-273b-470e-829a-80ffe42d36db"
   },
   "outputs": [
    {
     "name": "stdout",
     "output_type": "stream",
     "text": [
      "function took 72.4 seconds\n",
      "the shape of your dataframe is: (258586, 58)\n"
     ]
    }
   ],
   "source": [
    "data = extract_socrata_data(chunk_size = 2500,\n",
    "                            data_set = data_set,\n",
    "                            where = \"permit_type='NB'\")"
   ]
  },
  {
   "cell_type": "code",
   "execution_count": 11,
   "id": "0321f259",
   "metadata": {
    "ExecuteTime": {
     "end_time": "2022-11-07T03:32:09.247790Z",
     "start_time": "2022-11-07T03:32:09.225869Z"
    },
    "id": "0321f259",
    "outputId": "d9997857-e0b8-47d9-ce3d-04c90440c688"
   },
   "outputs": [
    {
     "data": {
      "text/plain": [
       "Index(['borough', 'bin__', 'house__', 'street_name', 'job__', 'job_doc___',\n",
       "       'job_type', 'self_cert', 'block', 'lot', 'community_board', 'zip_code',\n",
       "       'bldg_type', 'residential', 'permit_status', 'filing_status',\n",
       "       'permit_type', 'permit_sequence__', 'site_fill', 'filing_date',\n",
       "       'issuance_date', 'expiration_date', 'job_start_date',\n",
       "       'permittee_s_first_name', 'permittee_s_last_name',\n",
       "       'permittee_s_business_name', 'permittee_s_phone__',\n",
       "       'permittee_s_license_type', 'permittee_s_license__',\n",
       "       'superintendent_first___last_name', 'superintendent_business_name',\n",
       "       'owner_s_business_type', 'non_profit', 'owner_s_business_name',\n",
       "       'owner_s_first_name', 'owner_s_last_name', 'owner_s_phone__',\n",
       "       'dobrundate', 'permit_si_no', 'gis_latitude', 'gis_longitude',\n",
       "       'gis_council_district', 'gis_census_tract', 'gis_nta_name',\n",
       "       'site_safety_mgr_s_first_name', 'site_safety_mgr_s_last_name',\n",
       "       'site_safety_mgr_business_name', 'special_district_1', 'hic_license',\n",
       "       'act_as_superintendent', 'owner_s_house__', 'owner_s_house_street_name',\n",
       "       'city', 'state', 'owner_s_zip_code', 'permittee_s_other_title',\n",
       "       'work_type', 'special_district_2'],\n",
       "      dtype='object')"
      ]
     },
     "execution_count": 11,
     "metadata": {},
     "output_type": "execute_result"
    }
   ],
   "source": [
    "data.columns"
   ]
  },
  {
   "cell_type": "code",
   "execution_count": 12,
   "id": "10e11b2e",
   "metadata": {
    "ExecuteTime": {
     "end_time": "2022-11-07T03:32:11.941879Z",
     "start_time": "2022-11-07T03:32:11.276761Z"
    },
    "id": "10e11b2e"
   },
   "outputs": [],
   "source": [
    "data = data[[\"borough\",\"street_name\",\"zip_code\",\"bldg_type\",\"permit_type\",\"permit_status\",\"permittee_s_business_name\",\"filing_date\",\"gis_latitude\",\"gis_longitude\"]]"
   ]
  },
  {
   "cell_type": "code",
   "execution_count": 13,
   "id": "8d3aa6fd",
   "metadata": {
    "ExecuteTime": {
     "end_time": "2022-11-07T03:32:11.954896Z",
     "start_time": "2022-11-07T03:32:11.943279Z"
    },
    "id": "8d3aa6fd",
    "outputId": "18bd653f-8d4c-42b0-b2c6-ae19cd82f3d6"
   },
   "outputs": [
    {
     "data": {
      "text/html": [
       "<div>\n",
       "<style scoped>\n",
       "    .dataframe tbody tr th:only-of-type {\n",
       "        vertical-align: middle;\n",
       "    }\n",
       "\n",
       "    .dataframe tbody tr th {\n",
       "        vertical-align: top;\n",
       "    }\n",
       "\n",
       "    .dataframe thead th {\n",
       "        text-align: right;\n",
       "    }\n",
       "</style>\n",
       "<table border=\"1\" class=\"dataframe\">\n",
       "  <thead>\n",
       "    <tr style=\"text-align: right;\">\n",
       "      <th></th>\n",
       "      <th>borough</th>\n",
       "      <th>street_name</th>\n",
       "      <th>zip_code</th>\n",
       "      <th>bldg_type</th>\n",
       "      <th>permit_type</th>\n",
       "      <th>permit_status</th>\n",
       "      <th>permittee_s_business_name</th>\n",
       "      <th>filing_date</th>\n",
       "      <th>gis_latitude</th>\n",
       "      <th>gis_longitude</th>\n",
       "    </tr>\n",
       "  </thead>\n",
       "  <tbody>\n",
       "    <tr>\n",
       "      <th>0</th>\n",
       "      <td>BROOKLYN</td>\n",
       "      <td>HERKIMER STREET</td>\n",
       "      <td>11213</td>\n",
       "      <td>2</td>\n",
       "      <td>NB</td>\n",
       "      <td>ISSUED</td>\n",
       "      <td>AB PLUS R CONSTRUCTION IN</td>\n",
       "      <td>05/10/2022</td>\n",
       "      <td>40.678919</td>\n",
       "      <td>-73.936482</td>\n",
       "    </tr>\n",
       "    <tr>\n",
       "      <th>1</th>\n",
       "      <td>BRONX</td>\n",
       "      <td>WHITE PLAINS ROAD</td>\n",
       "      <td>10470</td>\n",
       "      <td>2</td>\n",
       "      <td>NB</td>\n",
       "      <td>ISSUED</td>\n",
       "      <td>SKF GENERAL CONTRACTORS,</td>\n",
       "      <td>05/10/2022</td>\n",
       "      <td>40.898971</td>\n",
       "      <td>-73.853874</td>\n",
       "    </tr>\n",
       "    <tr>\n",
       "      <th>2</th>\n",
       "      <td>BROOKLYN</td>\n",
       "      <td>WILLOUGHBY AVENUE</td>\n",
       "      <td>11205</td>\n",
       "      <td>2</td>\n",
       "      <td>NB</td>\n",
       "      <td>ISSUED</td>\n",
       "      <td>MC GOWAN BUILDERS INC</td>\n",
       "      <td>05/10/2022</td>\n",
       "      <td>40.692368</td>\n",
       "      <td>-73.961350</td>\n",
       "    </tr>\n",
       "    <tr>\n",
       "      <th>3</th>\n",
       "      <td>BROOKLYN</td>\n",
       "      <td>NEW YORK AVENUE</td>\n",
       "      <td>11203</td>\n",
       "      <td>2</td>\n",
       "      <td>NB</td>\n",
       "      <td>ISSUED</td>\n",
       "      <td>M &amp; Y DEVELOPERS, INC</td>\n",
       "      <td>05/10/2022</td>\n",
       "      <td>40.641580</td>\n",
       "      <td>-73.945684</td>\n",
       "    </tr>\n",
       "    <tr>\n",
       "      <th>4</th>\n",
       "      <td>BRONX</td>\n",
       "      <td>VYSE AVE</td>\n",
       "      <td>10460</td>\n",
       "      <td>2</td>\n",
       "      <td>NB</td>\n",
       "      <td>ISSUED</td>\n",
       "      <td>KIRI CONSTRUCTION CORP</td>\n",
       "      <td>05/10/2022</td>\n",
       "      <td>40.842322</td>\n",
       "      <td>-73.881900</td>\n",
       "    </tr>\n",
       "    <tr>\n",
       "      <th>...</th>\n",
       "      <td>...</td>\n",
       "      <td>...</td>\n",
       "      <td>...</td>\n",
       "      <td>...</td>\n",
       "      <td>...</td>\n",
       "      <td>...</td>\n",
       "      <td>...</td>\n",
       "      <td>...</td>\n",
       "      <td>...</td>\n",
       "      <td>...</td>\n",
       "    </tr>\n",
       "    <tr>\n",
       "      <th>258581</th>\n",
       "      <td>BROOKLYN</td>\n",
       "      <td>HURON STREET</td>\n",
       "      <td>11222</td>\n",
       "      <td>2</td>\n",
       "      <td>NB</td>\n",
       "      <td>ISSUED</td>\n",
       "      <td>QUAD CONSTRUCTION NY</td>\n",
       "      <td>11/25/2022</td>\n",
       "      <td>40.733089</td>\n",
       "      <td>-73.954219</td>\n",
       "    </tr>\n",
       "    <tr>\n",
       "      <th>258582</th>\n",
       "      <td>BROOKLYN</td>\n",
       "      <td>LIBERTY AVE</td>\n",
       "      <td>11208</td>\n",
       "      <td>2</td>\n",
       "      <td>NB</td>\n",
       "      <td>ISSUED</td>\n",
       "      <td>URBAN ECOSPACES, INC</td>\n",
       "      <td>11/25/2022</td>\n",
       "      <td>40.677058</td>\n",
       "      <td>-73.878443</td>\n",
       "    </tr>\n",
       "    <tr>\n",
       "      <th>258583</th>\n",
       "      <td>BROOKLYN</td>\n",
       "      <td>PACIFIC STREET</td>\n",
       "      <td>11238</td>\n",
       "      <td>2</td>\n",
       "      <td>NB</td>\n",
       "      <td>ISSUED</td>\n",
       "      <td>FAZIO CONSTRUCTION GROUP</td>\n",
       "      <td>11/25/2022</td>\n",
       "      <td>40.680586</td>\n",
       "      <td>-73.965943</td>\n",
       "    </tr>\n",
       "    <tr>\n",
       "      <th>258584</th>\n",
       "      <td>BROOKLYN</td>\n",
       "      <td>EAST 53 STREET</td>\n",
       "      <td>11203</td>\n",
       "      <td>2</td>\n",
       "      <td>NB</td>\n",
       "      <td>ISSUED</td>\n",
       "      <td>CITYSCAPE BUILDERS LLC</td>\n",
       "      <td>11/25/2022</td>\n",
       "      <td>40.658937</td>\n",
       "      <td>-73.928211</td>\n",
       "    </tr>\n",
       "    <tr>\n",
       "      <th>258585</th>\n",
       "      <td>BROOKLYN</td>\n",
       "      <td>2 AVENUE</td>\n",
       "      <td>11232</td>\n",
       "      <td>2</td>\n",
       "      <td>NB</td>\n",
       "      <td>ISSUED</td>\n",
       "      <td>SHENG SHENG CONSTRUCTION</td>\n",
       "      <td>11/25/2022</td>\n",
       "      <td>40.649478</td>\n",
       "      <td>-74.016512</td>\n",
       "    </tr>\n",
       "  </tbody>\n",
       "</table>\n",
       "<p>258586 rows × 10 columns</p>\n",
       "</div>"
      ],
      "text/plain": [
       "         borough        street_name zip_code bldg_type permit_type  \\\n",
       "0       BROOKLYN    HERKIMER STREET    11213         2          NB   \n",
       "1          BRONX  WHITE PLAINS ROAD    10470         2          NB   \n",
       "2       BROOKLYN  WILLOUGHBY AVENUE    11205         2          NB   \n",
       "3       BROOKLYN    NEW YORK AVENUE    11203         2          NB   \n",
       "4          BRONX           VYSE AVE    10460         2          NB   \n",
       "...          ...                ...      ...       ...         ...   \n",
       "258581  BROOKLYN       HURON STREET    11222         2          NB   \n",
       "258582  BROOKLYN        LIBERTY AVE    11208         2          NB   \n",
       "258583  BROOKLYN     PACIFIC STREET    11238         2          NB   \n",
       "258584  BROOKLYN     EAST 53 STREET    11203         2          NB   \n",
       "258585  BROOKLYN           2 AVENUE    11232         2          NB   \n",
       "\n",
       "       permit_status  permittee_s_business_name filing_date gis_latitude  \\\n",
       "0             ISSUED  AB PLUS R CONSTRUCTION IN  05/10/2022    40.678919   \n",
       "1             ISSUED   SKF GENERAL CONTRACTORS,  05/10/2022    40.898971   \n",
       "2             ISSUED      MC GOWAN BUILDERS INC  05/10/2022    40.692368   \n",
       "3             ISSUED      M & Y DEVELOPERS, INC  05/10/2022    40.641580   \n",
       "4             ISSUED     KIRI CONSTRUCTION CORP  05/10/2022    40.842322   \n",
       "...              ...                        ...         ...          ...   \n",
       "258581        ISSUED       QUAD CONSTRUCTION NY  11/25/2022    40.733089   \n",
       "258582        ISSUED       URBAN ECOSPACES, INC  11/25/2022    40.677058   \n",
       "258583        ISSUED   FAZIO CONSTRUCTION GROUP  11/25/2022    40.680586   \n",
       "258584        ISSUED     CITYSCAPE BUILDERS LLC  11/25/2022    40.658937   \n",
       "258585        ISSUED   SHENG SHENG CONSTRUCTION  11/25/2022    40.649478   \n",
       "\n",
       "       gis_longitude  \n",
       "0         -73.936482  \n",
       "1         -73.853874  \n",
       "2         -73.961350  \n",
       "3         -73.945684  \n",
       "4         -73.881900  \n",
       "...              ...  \n",
       "258581    -73.954219  \n",
       "258582    -73.878443  \n",
       "258583    -73.965943  \n",
       "258584    -73.928211  \n",
       "258585    -74.016512  \n",
       "\n",
       "[258586 rows x 10 columns]"
      ]
     },
     "execution_count": 13,
     "metadata": {},
     "output_type": "execute_result"
    }
   ],
   "source": [
    "data"
   ]
  },
  {
   "cell_type": "code",
   "execution_count": 14,
   "id": "bcd66a6d",
   "metadata": {
    "ExecuteTime": {
     "end_time": "2022-11-07T03:32:14.675097Z",
     "start_time": "2022-11-07T03:32:14.318457Z"
    },
    "id": "bcd66a6d"
   },
   "outputs": [],
   "source": [
    "data['filing_date']= pd.to_datetime(data['filing_date'])"
   ]
  },
  {
   "cell_type": "code",
   "execution_count": 15,
   "id": "737a2d1a",
   "metadata": {
    "ExecuteTime": {
     "end_time": "2022-11-07T03:32:14.885379Z",
     "start_time": "2022-11-07T03:32:14.869271Z"
    },
    "id": "737a2d1a"
   },
   "outputs": [],
   "source": [
    "data=data[(data['filing_date'] >= '2019-01-01') & (data['filing_date'] <= '2021-12-31')]"
   ]
  },
  {
   "cell_type": "code",
   "execution_count": 16,
   "id": "87e59e87",
   "metadata": {
    "ExecuteTime": {
     "end_time": "2022-11-07T03:32:15.505365Z",
     "start_time": "2022-11-07T03:32:15.434613Z"
    },
    "id": "87e59e87",
    "outputId": "81c33cb9-14df-4ae1-8759-b0f61f32c730"
   },
   "outputs": [
    {
     "data": {
      "text/plain": [
       "borough                        0\n",
       "street_name                    0\n",
       "zip_code                      40\n",
       "bldg_type                      0\n",
       "permit_type                    0\n",
       "permit_status                 10\n",
       "permittee_s_business_name     73\n",
       "filing_date                    0\n",
       "gis_latitude                 458\n",
       "gis_longitude                458\n",
       "dtype: int64"
      ]
     },
     "execution_count": 16,
     "metadata": {},
     "output_type": "execute_result"
    }
   ],
   "source": [
    "data.isnull().sum()"
   ]
  },
  {
   "cell_type": "code",
   "execution_count": 17,
   "id": "5139e83a",
   "metadata": {
    "ExecuteTime": {
     "end_time": "2022-11-07T03:32:16.005981Z",
     "start_time": "2022-11-07T03:32:15.941396Z"
    },
    "id": "5139e83a"
   },
   "outputs": [],
   "source": [
    "data=data.dropna()"
   ]
  },
  {
   "cell_type": "code",
   "execution_count": 18,
   "id": "a0809c2f",
   "metadata": {
    "ExecuteTime": {
     "end_time": "2022-11-07T03:32:16.463549Z",
     "start_time": "2022-11-07T03:32:16.412463Z"
    },
    "id": "a0809c2f",
    "outputId": "b55495ee-b899-4066-93f3-7a91dd6aca76"
   },
   "outputs": [
    {
     "data": {
      "text/plain": [
       "borough                      0\n",
       "street_name                  0\n",
       "zip_code                     0\n",
       "bldg_type                    0\n",
       "permit_type                  0\n",
       "permit_status                0\n",
       "permittee_s_business_name    0\n",
       "filing_date                  0\n",
       "gis_latitude                 0\n",
       "gis_longitude                0\n",
       "dtype: int64"
      ]
     },
     "execution_count": 18,
     "metadata": {},
     "output_type": "execute_result"
    }
   ],
   "source": [
    "data.isnull().sum()"
   ]
  },
  {
   "cell_type": "code",
   "execution_count": 19,
   "id": "d31e35ec",
   "metadata": {
    "ExecuteTime": {
     "end_time": "2022-11-07T03:32:16.759819Z",
     "start_time": "2022-11-07T03:32:16.710056Z"
    },
    "id": "d31e35ec"
   },
   "outputs": [],
   "source": [
    "data = data.drop_duplicates()"
   ]
  },
  {
   "cell_type": "code",
   "execution_count": 20,
   "id": "982962d7",
   "metadata": {
    "ExecuteTime": {
     "end_time": "2022-11-07T03:32:17.054320Z",
     "start_time": "2022-11-07T03:32:17.036200Z"
    },
    "id": "982962d7"
   },
   "outputs": [],
   "source": [
    "data=data.reset_index(drop=True)"
   ]
  },
  {
   "cell_type": "code",
   "execution_count": 21,
   "id": "335926d1",
   "metadata": {
    "ExecuteTime": {
     "end_time": "2022-11-07T03:32:17.316661Z",
     "start_time": "2022-11-07T03:32:17.306101Z"
    },
    "id": "335926d1"
   },
   "outputs": [],
   "source": [
    "data['year'] = pd.DatetimeIndex(data['filing_date']).year"
   ]
  },
  {
   "cell_type": "code",
   "execution_count": 22,
   "id": "d2c74f38",
   "metadata": {
    "ExecuteTime": {
     "end_time": "2022-11-07T03:32:17.650616Z",
     "start_time": "2022-11-07T03:32:17.627881Z"
    },
    "id": "d2c74f38"
   },
   "outputs": [],
   "source": [
    "data['zip_code'] = data['zip_code'].astype('int64')\n",
    "data['gis_latitude'] = data['gis_latitude'].astype('float')\n",
    "data['gis_longitude'] = data['gis_longitude'].astype('float')"
   ]
  },
  {
   "cell_type": "code",
   "execution_count": 23,
   "id": "c87790f6",
   "metadata": {
    "ExecuteTime": {
     "end_time": "2022-11-07T03:32:17.978712Z",
     "start_time": "2022-11-07T03:32:17.952715Z"
    },
    "id": "c87790f6",
    "outputId": "3a9549dc-7561-4c9d-a5f0-d406c14482c6"
   },
   "outputs": [
    {
     "data": {
      "text/html": [
       "<div>\n",
       "<style scoped>\n",
       "    .dataframe tbody tr th:only-of-type {\n",
       "        vertical-align: middle;\n",
       "    }\n",
       "\n",
       "    .dataframe tbody tr th {\n",
       "        vertical-align: top;\n",
       "    }\n",
       "\n",
       "    .dataframe thead th {\n",
       "        text-align: right;\n",
       "    }\n",
       "</style>\n",
       "<table border=\"1\" class=\"dataframe\">\n",
       "  <thead>\n",
       "    <tr style=\"text-align: right;\">\n",
       "      <th></th>\n",
       "      <th>borough</th>\n",
       "      <th>street_name</th>\n",
       "      <th>zip_code</th>\n",
       "      <th>bldg_type</th>\n",
       "      <th>permit_type</th>\n",
       "      <th>permit_status</th>\n",
       "      <th>permittee_s_business_name</th>\n",
       "      <th>filing_date</th>\n",
       "      <th>gis_latitude</th>\n",
       "      <th>gis_longitude</th>\n",
       "      <th>year</th>\n",
       "    </tr>\n",
       "  </thead>\n",
       "  <tbody>\n",
       "    <tr>\n",
       "      <th>0</th>\n",
       "      <td>BROOKLYN</td>\n",
       "      <td>EAST 22 STREET</td>\n",
       "      <td>11210</td>\n",
       "      <td>1</td>\n",
       "      <td>NB</td>\n",
       "      <td>ISSUED</td>\n",
       "      <td>LOUIS PERL CONTRACTING LT</td>\n",
       "      <td>2019-09-24</td>\n",
       "      <td>40.622307</td>\n",
       "      <td>-73.953736</td>\n",
       "      <td>2019</td>\n",
       "    </tr>\n",
       "    <tr>\n",
       "      <th>1</th>\n",
       "      <td>MANHATTAN</td>\n",
       "      <td>WEST 105TH STREET</td>\n",
       "      <td>10025</td>\n",
       "      <td>1</td>\n",
       "      <td>NB</td>\n",
       "      <td>ISSUED</td>\n",
       "      <td>TOP ROCK DEVELOPMENT AND</td>\n",
       "      <td>2021-11-17</td>\n",
       "      <td>40.798286</td>\n",
       "      <td>-73.962716</td>\n",
       "      <td>2021</td>\n",
       "    </tr>\n",
       "    <tr>\n",
       "      <th>2</th>\n",
       "      <td>BROOKLYN</td>\n",
       "      <td>61 STREET</td>\n",
       "      <td>11219</td>\n",
       "      <td>1</td>\n",
       "      <td>NB</td>\n",
       "      <td>ISSUED</td>\n",
       "      <td>KAUFMAN GROUP INC</td>\n",
       "      <td>2020-06-24</td>\n",
       "      <td>40.626170</td>\n",
       "      <td>-73.995670</td>\n",
       "      <td>2020</td>\n",
       "    </tr>\n",
       "    <tr>\n",
       "      <th>3</th>\n",
       "      <td>BRONX</td>\n",
       "      <td>SAINT LAWRENCE AVENUE</td>\n",
       "      <td>10473</td>\n",
       "      <td>1</td>\n",
       "      <td>NB</td>\n",
       "      <td>ISSUED</td>\n",
       "      <td>RASHBI DEVELOPMENT INC</td>\n",
       "      <td>2021-04-06</td>\n",
       "      <td>40.813572</td>\n",
       "      <td>-73.863039</td>\n",
       "      <td>2021</td>\n",
       "    </tr>\n",
       "    <tr>\n",
       "      <th>4</th>\n",
       "      <td>BROOKLYN</td>\n",
       "      <td>BEACH 38 STREET</td>\n",
       "      <td>11224</td>\n",
       "      <td>1</td>\n",
       "      <td>NB</td>\n",
       "      <td>ISSUED</td>\n",
       "      <td>SAPOL CONSTRUCTION LLC</td>\n",
       "      <td>2021-04-20</td>\n",
       "      <td>40.573632</td>\n",
       "      <td>-74.004341</td>\n",
       "      <td>2021</td>\n",
       "    </tr>\n",
       "    <tr>\n",
       "      <th>...</th>\n",
       "      <td>...</td>\n",
       "      <td>...</td>\n",
       "      <td>...</td>\n",
       "      <td>...</td>\n",
       "      <td>...</td>\n",
       "      <td>...</td>\n",
       "      <td>...</td>\n",
       "      <td>...</td>\n",
       "      <td>...</td>\n",
       "      <td>...</td>\n",
       "      <td>...</td>\n",
       "    </tr>\n",
       "    <tr>\n",
       "      <th>19228</th>\n",
       "      <td>BROOKLYN</td>\n",
       "      <td>SOUTH    5 STREET</td>\n",
       "      <td>11211</td>\n",
       "      <td>2</td>\n",
       "      <td>NB</td>\n",
       "      <td>ISSUED</td>\n",
       "      <td>TRIBOROUGH CONSTRUCTION S</td>\n",
       "      <td>2019-05-30</td>\n",
       "      <td>40.707104</td>\n",
       "      <td>-73.951759</td>\n",
       "      <td>2019</td>\n",
       "    </tr>\n",
       "    <tr>\n",
       "      <th>19229</th>\n",
       "      <td>BROOKLYN</td>\n",
       "      <td>SOUTH    5 STREET</td>\n",
       "      <td>11211</td>\n",
       "      <td>2</td>\n",
       "      <td>NB</td>\n",
       "      <td>ISSUED</td>\n",
       "      <td>DLC DEVELOPMENT CORP</td>\n",
       "      <td>2020-05-08</td>\n",
       "      <td>40.707104</td>\n",
       "      <td>-73.951759</td>\n",
       "      <td>2020</td>\n",
       "    </tr>\n",
       "    <tr>\n",
       "      <th>19230</th>\n",
       "      <td>QUEENS</td>\n",
       "      <td>103 AVE</td>\n",
       "      <td>11419</td>\n",
       "      <td>1</td>\n",
       "      <td>NB</td>\n",
       "      <td>ISSUED</td>\n",
       "      <td>CUSTOMBUILT HOMES INC</td>\n",
       "      <td>2020-08-17</td>\n",
       "      <td>40.688931</td>\n",
       "      <td>-73.821593</td>\n",
       "      <td>2020</td>\n",
       "    </tr>\n",
       "    <tr>\n",
       "      <th>19231</th>\n",
       "      <td>QUEENS</td>\n",
       "      <td>103 AVE</td>\n",
       "      <td>11419</td>\n",
       "      <td>1</td>\n",
       "      <td>NB</td>\n",
       "      <td>ISSUED</td>\n",
       "      <td>CUSTOMBUILT HOMES INC</td>\n",
       "      <td>2021-05-21</td>\n",
       "      <td>40.688931</td>\n",
       "      <td>-73.821593</td>\n",
       "      <td>2021</td>\n",
       "    </tr>\n",
       "    <tr>\n",
       "      <th>19232</th>\n",
       "      <td>BRONX</td>\n",
       "      <td>BAINBRIDGE AVENUE</td>\n",
       "      <td>10458</td>\n",
       "      <td>2</td>\n",
       "      <td>NB</td>\n",
       "      <td>ISSUED</td>\n",
       "      <td>COUNTYWIDE BUILDERS INC</td>\n",
       "      <td>2021-10-01</td>\n",
       "      <td>40.863582</td>\n",
       "      <td>-73.892672</td>\n",
       "      <td>2021</td>\n",
       "    </tr>\n",
       "  </tbody>\n",
       "</table>\n",
       "<p>19233 rows × 11 columns</p>\n",
       "</div>"
      ],
      "text/plain": [
       "         borough            street_name  zip_code bldg_type permit_type  \\\n",
       "0       BROOKLYN         EAST 22 STREET     11210         1          NB   \n",
       "1      MANHATTAN      WEST 105TH STREET     10025         1          NB   \n",
       "2       BROOKLYN              61 STREET     11219         1          NB   \n",
       "3          BRONX  SAINT LAWRENCE AVENUE     10473         1          NB   \n",
       "4       BROOKLYN        BEACH 38 STREET     11224         1          NB   \n",
       "...          ...                    ...       ...       ...         ...   \n",
       "19228   BROOKLYN      SOUTH    5 STREET     11211         2          NB   \n",
       "19229   BROOKLYN      SOUTH    5 STREET     11211         2          NB   \n",
       "19230     QUEENS                103 AVE     11419         1          NB   \n",
       "19231     QUEENS                103 AVE     11419         1          NB   \n",
       "19232      BRONX      BAINBRIDGE AVENUE     10458         2          NB   \n",
       "\n",
       "      permit_status  permittee_s_business_name filing_date  gis_latitude  \\\n",
       "0            ISSUED  LOUIS PERL CONTRACTING LT  2019-09-24     40.622307   \n",
       "1            ISSUED   TOP ROCK DEVELOPMENT AND  2021-11-17     40.798286   \n",
       "2            ISSUED          KAUFMAN GROUP INC  2020-06-24     40.626170   \n",
       "3            ISSUED     RASHBI DEVELOPMENT INC  2021-04-06     40.813572   \n",
       "4            ISSUED     SAPOL CONSTRUCTION LLC  2021-04-20     40.573632   \n",
       "...             ...                        ...         ...           ...   \n",
       "19228        ISSUED  TRIBOROUGH CONSTRUCTION S  2019-05-30     40.707104   \n",
       "19229        ISSUED       DLC DEVELOPMENT CORP  2020-05-08     40.707104   \n",
       "19230        ISSUED      CUSTOMBUILT HOMES INC  2020-08-17     40.688931   \n",
       "19231        ISSUED      CUSTOMBUILT HOMES INC  2021-05-21     40.688931   \n",
       "19232        ISSUED    COUNTYWIDE BUILDERS INC  2021-10-01     40.863582   \n",
       "\n",
       "       gis_longitude  year  \n",
       "0         -73.953736  2019  \n",
       "1         -73.962716  2021  \n",
       "2         -73.995670  2020  \n",
       "3         -73.863039  2021  \n",
       "4         -74.004341  2021  \n",
       "...              ...   ...  \n",
       "19228     -73.951759  2019  \n",
       "19229     -73.951759  2020  \n",
       "19230     -73.821593  2020  \n",
       "19231     -73.821593  2021  \n",
       "19232     -73.892672  2021  \n",
       "\n",
       "[19233 rows x 11 columns]"
      ]
     },
     "execution_count": 23,
     "metadata": {},
     "output_type": "execute_result"
    }
   ],
   "source": [
    "data"
   ]
  },
  {
   "cell_type": "markdown",
   "id": "80f937a2",
   "metadata": {
    "id": "80f937a2"
   },
   "source": [
    "#### The second dataset from Annualized Sales Update"
   ]
  },
  {
   "cell_type": "code",
   "execution_count": 24,
   "id": "6d76f8ff",
   "metadata": {
    "ExecuteTime": {
     "end_time": "2022-11-07T03:32:22.746749Z",
     "start_time": "2022-11-07T03:32:22.000942Z"
    },
    "id": "6d76f8ff"
   },
   "outputs": [],
   "source": [
    "data1 = pd.read_csv('Borough_Sales_History_Merged.csv')"
   ]
  },
  {
   "cell_type": "code",
   "execution_count": 25,
   "id": "68d39105",
   "metadata": {},
   "outputs": [],
   "source": [
    "data1 = data1.drop_duplicates()"
   ]
  },
  {
   "cell_type": "code",
   "execution_count": 26,
   "id": "f30c572b",
   "metadata": {
    "ExecuteTime": {
     "end_time": "2022-11-07T03:32:22.750613Z",
     "start_time": "2022-11-07T03:32:22.747982Z"
    },
    "id": "f30c572b",
    "outputId": "d20f82f7-22a0-460a-ad5e-47f28c6ee8a5"
   },
   "outputs": [
    {
     "data": {
      "text/plain": [
       "Index(['Unnamed: 0', 'BOROUGH', 'NEIGHBORHOOD', 'BUILDING CLASS CATEGORY',\n",
       "       'TAX CLASS AS OF FINAL ROLL 18/19', 'BLOCK', 'LOT', 'EASE-MENT',\n",
       "       'BUILDING CLASS AS OF FINAL ROLL 18/19', 'ADDRESS', 'APARTMENT NUMBER',\n",
       "       'ZIP CODE', 'RESIDENTIAL UNITS', 'COMMERCIAL UNITS', 'TOTAL UNITS',\n",
       "       'LAND SQUARE FEET', 'GROSS SQUARE FEET', 'YEAR BUILT',\n",
       "       'TAX CLASS AT TIME OF SALE', 'BUILDING CLASS AT TIME OF SALE',\n",
       "       'SALE PRICE', 'SALE DATE'],\n",
       "      dtype='object')"
      ]
     },
     "execution_count": 26,
     "metadata": {},
     "output_type": "execute_result"
    }
   ],
   "source": [
    "data1.columns"
   ]
  },
  {
   "cell_type": "code",
   "execution_count": 27,
   "id": "7dd2132c",
   "metadata": {
    "ExecuteTime": {
     "end_time": "2022-11-07T03:32:24.046721Z",
     "start_time": "2022-11-07T03:32:24.016340Z"
    },
    "id": "7dd2132c"
   },
   "outputs": [],
   "source": [
    "data1.drop(['Unnamed: 0', 'NEIGHBORHOOD','BOROUGH', 'BUILDING CLASS CATEGORY','TAX CLASS AS OF FINAL ROLL 18/19','BLOCK','LOT','EASE-MENT','BUILDING CLASS AS OF FINAL ROLL 18/19','APARTMENT NUMBER','RESIDENTIAL UNITS','COMMERCIAL UNITS','TOTAL UNITS','LAND SQUARE FEET','GROSS SQUARE FEET','YEAR BUILT',\"TAX CLASS AT TIME OF SALE\",'BUILDING CLASS AT TIME OF SALE','ADDRESS'], axis=1, inplace=True)"
   ]
  },
  {
   "cell_type": "code",
   "execution_count": 28,
   "id": "b996a3dd",
   "metadata": {
    "ExecuteTime": {
     "end_time": "2022-11-07T03:32:24.475782Z",
     "start_time": "2022-11-07T03:32:24.419329Z"
    },
    "id": "b996a3dd"
   },
   "outputs": [],
   "source": [
    "data1=data1.dropna()"
   ]
  },
  {
   "cell_type": "code",
   "execution_count": 29,
   "id": "f30ffc48",
   "metadata": {
    "ExecuteTime": {
     "end_time": "2022-11-07T03:32:24.886022Z",
     "start_time": "2022-11-07T03:32:24.825007Z"
    },
    "id": "f30ffc48"
   },
   "outputs": [],
   "source": [
    "data1['ZIP CODE'] = data1['ZIP CODE'].astype('int64')\n",
    "data1['SALE PRICE'] = data1['SALE PRICE'].astype('int64')\n",
    "data1['SALE DATE']= pd.to_datetime(data1['SALE DATE'])"
   ]
  },
  {
   "cell_type": "code",
   "execution_count": 30,
   "id": "c08f5a20",
   "metadata": {
    "ExecuteTime": {
     "end_time": "2022-11-07T03:32:25.144479Z",
     "start_time": "2022-11-07T03:32:25.135977Z"
    },
    "id": "c08f5a20"
   },
   "outputs": [],
   "source": [
    "data1.rename(columns = {'ZIP CODE':'zip_code', 'SALE PRICE':'median_housing_price',\n",
    "                              'SALE DATE':'sale_date'}, inplace = True)"
   ]
  },
  {
   "cell_type": "code",
   "execution_count": 31,
   "id": "a8375324",
   "metadata": {
    "ExecuteTime": {
     "end_time": "2022-11-07T03:32:25.496421Z",
     "start_time": "2022-11-07T03:32:25.464221Z"
    },
    "id": "a8375324",
    "outputId": "5e023dd7-7d4e-4fbb-811a-418cd7d4013d",
    "scrolled": true
   },
   "outputs": [
    {
     "data": {
      "text/html": [
       "<div>\n",
       "<style scoped>\n",
       "    .dataframe tbody tr th:only-of-type {\n",
       "        vertical-align: middle;\n",
       "    }\n",
       "\n",
       "    .dataframe tbody tr th {\n",
       "        vertical-align: top;\n",
       "    }\n",
       "\n",
       "    .dataframe thead th {\n",
       "        text-align: right;\n",
       "    }\n",
       "</style>\n",
       "<table border=\"1\" class=\"dataframe\">\n",
       "  <thead>\n",
       "    <tr style=\"text-align: right;\">\n",
       "      <th></th>\n",
       "      <th>zip_code</th>\n",
       "      <th>median_housing_price</th>\n",
       "      <th>sale_date</th>\n",
       "      <th>year</th>\n",
       "    </tr>\n",
       "  </thead>\n",
       "  <tbody>\n",
       "    <tr>\n",
       "      <th>0</th>\n",
       "      <td>10009</td>\n",
       "      <td>3200000</td>\n",
       "      <td>2019-07-24</td>\n",
       "      <td>2019</td>\n",
       "    </tr>\n",
       "    <tr>\n",
       "      <th>3</th>\n",
       "      <td>10009</td>\n",
       "      <td>6300000</td>\n",
       "      <td>2019-04-30</td>\n",
       "      <td>2019</td>\n",
       "    </tr>\n",
       "    <tr>\n",
       "      <th>5</th>\n",
       "      <td>10009</td>\n",
       "      <td>1950000</td>\n",
       "      <td>2019-08-08</td>\n",
       "      <td>2019</td>\n",
       "    </tr>\n",
       "    <tr>\n",
       "      <th>6</th>\n",
       "      <td>10009</td>\n",
       "      <td>14000000</td>\n",
       "      <td>2019-01-09</td>\n",
       "      <td>2019</td>\n",
       "    </tr>\n",
       "    <tr>\n",
       "      <th>8</th>\n",
       "      <td>10009</td>\n",
       "      <td>600000</td>\n",
       "      <td>2019-12-12</td>\n",
       "      <td>2019</td>\n",
       "    </tr>\n",
       "  </tbody>\n",
       "</table>\n",
       "</div>"
      ],
      "text/plain": [
       "   zip_code  median_housing_price  sale_date  year\n",
       "0     10009               3200000 2019-07-24  2019\n",
       "3     10009               6300000 2019-04-30  2019\n",
       "5     10009               1950000 2019-08-08  2019\n",
       "6     10009              14000000 2019-01-09  2019\n",
       "8     10009                600000 2019-12-12  2019"
      ]
     },
     "execution_count": 31,
     "metadata": {},
     "output_type": "execute_result"
    }
   ],
   "source": [
    "data1['year'] = pd.DatetimeIndex(data1['sale_date']).year\n",
    "data1=data1[data1['median_housing_price']>100]\n",
    "data1.head()"
   ]
  },
  {
   "cell_type": "code",
   "execution_count": 32,
   "id": "5aeed97e",
   "metadata": {
    "ExecuteTime": {
     "end_time": "2022-11-07T03:32:25.820838Z",
     "start_time": "2022-11-07T03:32:25.808732Z"
    },
    "id": "5aeed97e",
    "outputId": "dae9c5c3-25f8-428a-f97d-920ea13f5235"
   },
   "outputs": [
    {
     "data": {
      "text/plain": [
       "zip_code                         int64\n",
       "median_housing_price             int64\n",
       "sale_date               datetime64[ns]\n",
       "year                             int64\n",
       "dtype: object"
      ]
     },
     "execution_count": 32,
     "metadata": {},
     "output_type": "execute_result"
    }
   ],
   "source": [
    "data1.dtypes"
   ]
  },
  {
   "cell_type": "code",
   "execution_count": 33,
   "id": "822c4e6c",
   "metadata": {},
   "outputs": [],
   "source": [
    "data1.to_csv(\"price.csv\",index=False)"
   ]
  },
  {
   "cell_type": "code",
   "execution_count": 34,
   "id": "d58db923",
   "metadata": {
    "ExecuteTime": {
     "end_time": "2022-11-07T03:32:26.096150Z",
     "start_time": "2022-11-07T03:32:26.053201Z"
    },
    "id": "d58db923",
    "outputId": "248c9fe5-8e87-4964-ba70-47c0ee27d6cf"
   },
   "outputs": [
    {
     "data": {
      "text/html": [
       "<div>\n",
       "<style scoped>\n",
       "    .dataframe tbody tr th:only-of-type {\n",
       "        vertical-align: middle;\n",
       "    }\n",
       "\n",
       "    .dataframe tbody tr th {\n",
       "        vertical-align: top;\n",
       "    }\n",
       "\n",
       "    .dataframe thead th {\n",
       "        text-align: right;\n",
       "    }\n",
       "</style>\n",
       "<table border=\"1\" class=\"dataframe\">\n",
       "  <thead>\n",
       "    <tr style=\"text-align: right;\">\n",
       "      <th></th>\n",
       "      <th></th>\n",
       "      <th>median_housing_price</th>\n",
       "    </tr>\n",
       "    <tr>\n",
       "      <th>zip_code</th>\n",
       "      <th>year</th>\n",
       "      <th></th>\n",
       "    </tr>\n",
       "  </thead>\n",
       "  <tbody>\n",
       "    <tr>\n",
       "      <th rowspan=\"3\" valign=\"top\">10001</th>\n",
       "      <th>2019</th>\n",
       "      <td>2938784.0</td>\n",
       "    </tr>\n",
       "    <tr>\n",
       "      <th>2020</th>\n",
       "      <td>2762500.0</td>\n",
       "    </tr>\n",
       "    <tr>\n",
       "      <th>2021</th>\n",
       "      <td>2045000.0</td>\n",
       "    </tr>\n",
       "    <tr>\n",
       "      <th rowspan=\"2\" valign=\"top\">10002</th>\n",
       "      <th>2019</th>\n",
       "      <td>1419368.0</td>\n",
       "    </tr>\n",
       "    <tr>\n",
       "      <th>2020</th>\n",
       "      <td>1083750.0</td>\n",
       "    </tr>\n",
       "    <tr>\n",
       "      <th>...</th>\n",
       "      <th>...</th>\n",
       "      <td>...</td>\n",
       "    </tr>\n",
       "    <tr>\n",
       "      <th rowspan=\"2\" valign=\"top\">11694</th>\n",
       "      <th>2020</th>\n",
       "      <td>624391.0</td>\n",
       "    </tr>\n",
       "    <tr>\n",
       "      <th>2021</th>\n",
       "      <td>722500.0</td>\n",
       "    </tr>\n",
       "    <tr>\n",
       "      <th rowspan=\"3\" valign=\"top\">11697</th>\n",
       "      <th>2019</th>\n",
       "      <td>433500.0</td>\n",
       "    </tr>\n",
       "    <tr>\n",
       "      <th>2020</th>\n",
       "      <td>500000.0</td>\n",
       "    </tr>\n",
       "    <tr>\n",
       "      <th>2021</th>\n",
       "      <td>625000.0</td>\n",
       "    </tr>\n",
       "  </tbody>\n",
       "</table>\n",
       "<p>559 rows × 1 columns</p>\n",
       "</div>"
      ],
      "text/plain": [
       "               median_housing_price\n",
       "zip_code year                      \n",
       "10001    2019             2938784.0\n",
       "         2020             2762500.0\n",
       "         2021             2045000.0\n",
       "10002    2019             1419368.0\n",
       "         2020             1083750.0\n",
       "...                             ...\n",
       "11694    2020              624391.0\n",
       "         2021              722500.0\n",
       "11697    2019              433500.0\n",
       "         2020              500000.0\n",
       "         2021              625000.0\n",
       "\n",
       "[559 rows x 1 columns]"
      ]
     },
     "execution_count": 34,
     "metadata": {},
     "output_type": "execute_result"
    }
   ],
   "source": [
    "data1=data1.groupby(['zip_code', 'year']).median()\n",
    "data1"
   ]
  },
  {
   "cell_type": "markdown",
   "id": "83730b8d",
   "metadata": {
    "id": "83730b8d"
   },
   "source": [
    "#### Merge two datasets together"
   ]
  },
  {
   "cell_type": "code",
   "execution_count": 35,
   "id": "ed303922",
   "metadata": {},
   "outputs": [],
   "source": [
    "data1.to_csv(\"price.csv\",index=False)"
   ]
  },
  {
   "cell_type": "code",
   "execution_count": 36,
   "id": "07313f0e",
   "metadata": {
    "ExecuteTime": {
     "end_time": "2022-11-07T03:32:27.501366Z",
     "start_time": "2022-11-07T03:32:27.457970Z"
    },
    "id": "07313f0e"
   },
   "outputs": [],
   "source": [
    "data= data.merge(data1, on=[\"zip_code\",\"year\"])"
   ]
  },
  {
   "cell_type": "code",
   "execution_count": 37,
   "id": "e067df4f",
   "metadata": {
    "ExecuteTime": {
     "end_time": "2022-11-07T03:32:27.868163Z",
     "start_time": "2022-11-07T03:32:27.859699Z"
    },
    "id": "e067df4f"
   },
   "outputs": [],
   "source": [
    "data['new_permit_quantity']=1"
   ]
  },
  {
   "cell_type": "code",
   "execution_count": 38,
   "id": "4758569e",
   "metadata": {
    "ExecuteTime": {
     "end_time": "2022-11-07T03:32:28.198017Z",
     "start_time": "2022-11-07T03:32:28.187507Z"
    },
    "id": "4758569e"
   },
   "outputs": [],
   "source": [
    "data.rename(columns = {'street_name':'street','permittee_s_business_name':'permittees_business_name',\n",
    "                              'filing_date':'date','gis_latitude':'latitude','gis_longitude':'longitude'}, inplace = True)"
   ]
  },
  {
   "cell_type": "code",
   "execution_count": 39,
   "id": "a7af2bae",
   "metadata": {
    "ExecuteTime": {
     "end_time": "2022-11-07T03:32:28.611614Z",
     "start_time": "2022-11-07T03:32:28.603690Z"
    },
    "id": "a7af2bae"
   },
   "outputs": [],
   "source": [
    "data['median_housing_price'] = data['median_housing_price'].astype('int64')"
   ]
  },
  {
   "cell_type": "code",
   "execution_count": 40,
   "id": "25f897b1",
   "metadata": {
    "ExecuteTime": {
     "end_time": "2022-11-07T03:32:29.142543Z",
     "start_time": "2022-11-07T03:32:29.117721Z"
    },
    "id": "25f897b1",
    "outputId": "9aa229dc-8760-4022-f263-638f1b45511e",
    "scrolled": true
   },
   "outputs": [
    {
     "data": {
      "text/html": [
       "<div>\n",
       "<style scoped>\n",
       "    .dataframe tbody tr th:only-of-type {\n",
       "        vertical-align: middle;\n",
       "    }\n",
       "\n",
       "    .dataframe tbody tr th {\n",
       "        vertical-align: top;\n",
       "    }\n",
       "\n",
       "    .dataframe thead th {\n",
       "        text-align: right;\n",
       "    }\n",
       "</style>\n",
       "<table border=\"1\" class=\"dataframe\">\n",
       "  <thead>\n",
       "    <tr style=\"text-align: right;\">\n",
       "      <th></th>\n",
       "      <th>borough</th>\n",
       "      <th>street</th>\n",
       "      <th>zip_code</th>\n",
       "      <th>bldg_type</th>\n",
       "      <th>permit_type</th>\n",
       "      <th>permit_status</th>\n",
       "      <th>permittees_business_name</th>\n",
       "      <th>date</th>\n",
       "      <th>latitude</th>\n",
       "      <th>longitude</th>\n",
       "      <th>year</th>\n",
       "      <th>median_housing_price</th>\n",
       "      <th>new_permit_quantity</th>\n",
       "    </tr>\n",
       "  </thead>\n",
       "  <tbody>\n",
       "    <tr>\n",
       "      <th>0</th>\n",
       "      <td>BROOKLYN</td>\n",
       "      <td>EAST 22 STREET</td>\n",
       "      <td>11210</td>\n",
       "      <td>1</td>\n",
       "      <td>NB</td>\n",
       "      <td>ISSUED</td>\n",
       "      <td>LOUIS PERL CONTRACTING LT</td>\n",
       "      <td>2019-09-24</td>\n",
       "      <td>40.622307</td>\n",
       "      <td>-73.953736</td>\n",
       "      <td>2019</td>\n",
       "      <td>772000</td>\n",
       "      <td>1</td>\n",
       "    </tr>\n",
       "    <tr>\n",
       "      <th>1</th>\n",
       "      <td>BROOKLYN</td>\n",
       "      <td>FLATBUSH AVENUE</td>\n",
       "      <td>11210</td>\n",
       "      <td>2</td>\n",
       "      <td>NB</td>\n",
       "      <td>ISSUED</td>\n",
       "      <td>SUPREME BUILDERS &amp; DEVELO</td>\n",
       "      <td>2019-05-10</td>\n",
       "      <td>40.637919</td>\n",
       "      <td>-73.953055</td>\n",
       "      <td>2019</td>\n",
       "      <td>772000</td>\n",
       "      <td>1</td>\n",
       "    </tr>\n",
       "    <tr>\n",
       "      <th>2</th>\n",
       "      <td>BROOKLYN</td>\n",
       "      <td>ROGERS AVENUE</td>\n",
       "      <td>11210</td>\n",
       "      <td>2</td>\n",
       "      <td>NB</td>\n",
       "      <td>ISSUED</td>\n",
       "      <td>M. MELNICK &amp; COMPANY INC</td>\n",
       "      <td>2019-03-28</td>\n",
       "      <td>40.636955</td>\n",
       "      <td>-73.950995</td>\n",
       "      <td>2019</td>\n",
       "      <td>772000</td>\n",
       "      <td>1</td>\n",
       "    </tr>\n",
       "    <tr>\n",
       "      <th>3</th>\n",
       "      <td>BROOKLYN</td>\n",
       "      <td>EAST 32 STREET</td>\n",
       "      <td>11210</td>\n",
       "      <td>2</td>\n",
       "      <td>NB</td>\n",
       "      <td>ISSUED</td>\n",
       "      <td>Y&amp;L INTERIOR LLC</td>\n",
       "      <td>2019-04-30</td>\n",
       "      <td>40.633264</td>\n",
       "      <td>-73.945784</td>\n",
       "      <td>2019</td>\n",
       "      <td>772000</td>\n",
       "      <td>1</td>\n",
       "    </tr>\n",
       "    <tr>\n",
       "      <th>4</th>\n",
       "      <td>BROOKLYN</td>\n",
       "      <td>NEW YORK AVENUE</td>\n",
       "      <td>11210</td>\n",
       "      <td>2</td>\n",
       "      <td>NB</td>\n",
       "      <td>ISSUED</td>\n",
       "      <td>LEMLE &amp; WOLFF CONSTR CORP</td>\n",
       "      <td>2019-01-03</td>\n",
       "      <td>40.636835</td>\n",
       "      <td>-73.945176</td>\n",
       "      <td>2019</td>\n",
       "      <td>772000</td>\n",
       "      <td>1</td>\n",
       "    </tr>\n",
       "    <tr>\n",
       "      <th>...</th>\n",
       "      <td>...</td>\n",
       "      <td>...</td>\n",
       "      <td>...</td>\n",
       "      <td>...</td>\n",
       "      <td>...</td>\n",
       "      <td>...</td>\n",
       "      <td>...</td>\n",
       "      <td>...</td>\n",
       "      <td>...</td>\n",
       "      <td>...</td>\n",
       "      <td>...</td>\n",
       "      <td>...</td>\n",
       "      <td>...</td>\n",
       "    </tr>\n",
       "    <tr>\n",
       "      <th>19217</th>\n",
       "      <td>MANHATTAN</td>\n",
       "      <td>EAST 132 STREET</td>\n",
       "      <td>10037</td>\n",
       "      <td>2</td>\n",
       "      <td>NB</td>\n",
       "      <td>ISSUED</td>\n",
       "      <td>DEDAJ CONSTRUCTION CORP</td>\n",
       "      <td>2021-06-16</td>\n",
       "      <td>40.810646</td>\n",
       "      <td>-73.938541</td>\n",
       "      <td>2021</td>\n",
       "      <td>450000</td>\n",
       "      <td>1</td>\n",
       "    </tr>\n",
       "    <tr>\n",
       "      <th>19218</th>\n",
       "      <td>MANHATTAN</td>\n",
       "      <td>BROADWAY</td>\n",
       "      <td>10034</td>\n",
       "      <td>2</td>\n",
       "      <td>NB</td>\n",
       "      <td>ISSUED</td>\n",
       "      <td>MEGA CONTRACTING GP LLC</td>\n",
       "      <td>2021-08-03</td>\n",
       "      <td>40.865947</td>\n",
       "      <td>-73.926075</td>\n",
       "      <td>2021</td>\n",
       "      <td>465000</td>\n",
       "      <td>1</td>\n",
       "    </tr>\n",
       "    <tr>\n",
       "      <th>19219</th>\n",
       "      <td>MANHATTAN</td>\n",
       "      <td>WEST 218 STREET</td>\n",
       "      <td>10034</td>\n",
       "      <td>2</td>\n",
       "      <td>NB</td>\n",
       "      <td>ISSUED</td>\n",
       "      <td>BOLIVAR BUILDERS, LLC</td>\n",
       "      <td>2021-09-30</td>\n",
       "      <td>40.870513</td>\n",
       "      <td>-73.912431</td>\n",
       "      <td>2021</td>\n",
       "      <td>465000</td>\n",
       "      <td>1</td>\n",
       "    </tr>\n",
       "    <tr>\n",
       "      <th>19220</th>\n",
       "      <td>MANHATTAN</td>\n",
       "      <td>BROADWAY</td>\n",
       "      <td>10034</td>\n",
       "      <td>2</td>\n",
       "      <td>NB</td>\n",
       "      <td>ISSUED</td>\n",
       "      <td>MEGA CONTRACTING GP LLC</td>\n",
       "      <td>2021-10-12</td>\n",
       "      <td>40.865947</td>\n",
       "      <td>-73.926075</td>\n",
       "      <td>2021</td>\n",
       "      <td>465000</td>\n",
       "      <td>1</td>\n",
       "    </tr>\n",
       "    <tr>\n",
       "      <th>19221</th>\n",
       "      <td>MANHATTAN</td>\n",
       "      <td>WEST 218 STREET</td>\n",
       "      <td>10034</td>\n",
       "      <td>2</td>\n",
       "      <td>NB</td>\n",
       "      <td>ISSUED</td>\n",
       "      <td>PLAZA CONSTRUCTION LLC</td>\n",
       "      <td>2021-10-21</td>\n",
       "      <td>40.872927</td>\n",
       "      <td>-73.918203</td>\n",
       "      <td>2021</td>\n",
       "      <td>465000</td>\n",
       "      <td>1</td>\n",
       "    </tr>\n",
       "  </tbody>\n",
       "</table>\n",
       "<p>19222 rows × 13 columns</p>\n",
       "</div>"
      ],
      "text/plain": [
       "         borough           street  zip_code bldg_type permit_type  \\\n",
       "0       BROOKLYN   EAST 22 STREET     11210         1          NB   \n",
       "1       BROOKLYN  FLATBUSH AVENUE     11210         2          NB   \n",
       "2       BROOKLYN    ROGERS AVENUE     11210         2          NB   \n",
       "3       BROOKLYN   EAST 32 STREET     11210         2          NB   \n",
       "4       BROOKLYN  NEW YORK AVENUE     11210         2          NB   \n",
       "...          ...              ...       ...       ...         ...   \n",
       "19217  MANHATTAN  EAST 132 STREET     10037         2          NB   \n",
       "19218  MANHATTAN         BROADWAY     10034         2          NB   \n",
       "19219  MANHATTAN  WEST 218 STREET     10034         2          NB   \n",
       "19220  MANHATTAN         BROADWAY     10034         2          NB   \n",
       "19221  MANHATTAN  WEST 218 STREET     10034         2          NB   \n",
       "\n",
       "      permit_status   permittees_business_name       date   latitude  \\\n",
       "0            ISSUED  LOUIS PERL CONTRACTING LT 2019-09-24  40.622307   \n",
       "1            ISSUED  SUPREME BUILDERS & DEVELO 2019-05-10  40.637919   \n",
       "2            ISSUED   M. MELNICK & COMPANY INC 2019-03-28  40.636955   \n",
       "3            ISSUED           Y&L INTERIOR LLC 2019-04-30  40.633264   \n",
       "4            ISSUED  LEMLE & WOLFF CONSTR CORP 2019-01-03  40.636835   \n",
       "...             ...                        ...        ...        ...   \n",
       "19217        ISSUED    DEDAJ CONSTRUCTION CORP 2021-06-16  40.810646   \n",
       "19218        ISSUED    MEGA CONTRACTING GP LLC 2021-08-03  40.865947   \n",
       "19219        ISSUED      BOLIVAR BUILDERS, LLC 2021-09-30  40.870513   \n",
       "19220        ISSUED    MEGA CONTRACTING GP LLC 2021-10-12  40.865947   \n",
       "19221        ISSUED     PLAZA CONSTRUCTION LLC 2021-10-21  40.872927   \n",
       "\n",
       "       longitude  year  median_housing_price  new_permit_quantity  \n",
       "0     -73.953736  2019                772000                    1  \n",
       "1     -73.953055  2019                772000                    1  \n",
       "2     -73.950995  2019                772000                    1  \n",
       "3     -73.945784  2019                772000                    1  \n",
       "4     -73.945176  2019                772000                    1  \n",
       "...          ...   ...                   ...                  ...  \n",
       "19217 -73.938541  2021                450000                    1  \n",
       "19218 -73.926075  2021                465000                    1  \n",
       "19219 -73.912431  2021                465000                    1  \n",
       "19220 -73.926075  2021                465000                    1  \n",
       "19221 -73.918203  2021                465000                    1  \n",
       "\n",
       "[19222 rows x 13 columns]"
      ]
     },
     "execution_count": 40,
     "metadata": {},
     "output_type": "execute_result"
    }
   ],
   "source": [
    "data"
   ]
  },
  {
   "cell_type": "code",
   "execution_count": 41,
   "id": "14e3d519",
   "metadata": {},
   "outputs": [],
   "source": [
    "#We found two error data.zip code 10312 should belong to STATEN ISLAND NOT BK"
   ]
  },
  {
   "cell_type": "code",
   "execution_count": 42,
   "id": "40b9e99e",
   "metadata": {},
   "outputs": [
    {
     "data": {
      "text/html": [
       "<div>\n",
       "<style scoped>\n",
       "    .dataframe tbody tr th:only-of-type {\n",
       "        vertical-align: middle;\n",
       "    }\n",
       "\n",
       "    .dataframe tbody tr th {\n",
       "        vertical-align: top;\n",
       "    }\n",
       "\n",
       "    .dataframe thead th {\n",
       "        text-align: right;\n",
       "    }\n",
       "</style>\n",
       "<table border=\"1\" class=\"dataframe\">\n",
       "  <thead>\n",
       "    <tr style=\"text-align: right;\">\n",
       "      <th></th>\n",
       "      <th>borough</th>\n",
       "      <th>street</th>\n",
       "      <th>zip_code</th>\n",
       "      <th>bldg_type</th>\n",
       "      <th>permit_type</th>\n",
       "      <th>permit_status</th>\n",
       "      <th>permittees_business_name</th>\n",
       "      <th>date</th>\n",
       "      <th>latitude</th>\n",
       "      <th>longitude</th>\n",
       "      <th>year</th>\n",
       "      <th>median_housing_price</th>\n",
       "      <th>new_permit_quantity</th>\n",
       "    </tr>\n",
       "  </thead>\n",
       "  <tbody>\n",
       "    <tr>\n",
       "      <th>1967</th>\n",
       "      <td>BROOKLYN</td>\n",
       "      <td>LYNCH STREET</td>\n",
       "      <td>10312</td>\n",
       "      <td>1</td>\n",
       "      <td>NB</td>\n",
       "      <td>ISSUED</td>\n",
       "      <td>CORNERSTONE BUILDERS NY L</td>\n",
       "      <td>2019-07-12</td>\n",
       "      <td>40.701689</td>\n",
       "      <td>-73.954633</td>\n",
       "      <td>2019</td>\n",
       "      <td>568000</td>\n",
       "      <td>1</td>\n",
       "    </tr>\n",
       "    <tr>\n",
       "      <th>3152</th>\n",
       "      <td>BROOKLYN</td>\n",
       "      <td>LYNCH STREET</td>\n",
       "      <td>10312</td>\n",
       "      <td>1</td>\n",
       "      <td>NB</td>\n",
       "      <td>ISSUED</td>\n",
       "      <td>CORNERSTONE BUILDERS NY L</td>\n",
       "      <td>2020-07-08</td>\n",
       "      <td>40.701689</td>\n",
       "      <td>-73.954633</td>\n",
       "      <td>2020</td>\n",
       "      <td>550000</td>\n",
       "      <td>1</td>\n",
       "    </tr>\n",
       "  </tbody>\n",
       "</table>\n",
       "</div>"
      ],
      "text/plain": [
       "       borough        street  zip_code bldg_type permit_type permit_status  \\\n",
       "1967  BROOKLYN  LYNCH STREET     10312         1          NB        ISSUED   \n",
       "3152  BROOKLYN  LYNCH STREET     10312         1          NB        ISSUED   \n",
       "\n",
       "       permittees_business_name       date   latitude  longitude  year  \\\n",
       "1967  CORNERSTONE BUILDERS NY L 2019-07-12  40.701689 -73.954633  2019   \n",
       "3152  CORNERSTONE BUILDERS NY L 2020-07-08  40.701689 -73.954633  2020   \n",
       "\n",
       "      median_housing_price  new_permit_quantity  \n",
       "1967                568000                    1  \n",
       "3152                550000                    1  "
      ]
     },
     "execution_count": 42,
     "metadata": {},
     "output_type": "execute_result"
    }
   ],
   "source": [
    "data.loc[(data['zip_code'] ==10312) & (data['borough']=='BROOKLYN')]"
   ]
  },
  {
   "cell_type": "code",
   "execution_count": 43,
   "id": "3400f4e2",
   "metadata": {},
   "outputs": [],
   "source": [
    "data.loc[data.zip_code == 10312, 'borough'] = 'STATEN ISLAND'"
   ]
  },
  {
   "cell_type": "code",
   "execution_count": 44,
   "id": "4340711a",
   "metadata": {
    "ExecuteTime": {
     "end_time": "2022-11-07T03:32:32.786866Z",
     "start_time": "2022-11-07T03:32:32.603430Z"
    },
    "id": "4340711a"
   },
   "outputs": [],
   "source": [
    "data.to_csv(\"data.csv\",index=False)"
   ]
  },
  {
   "cell_type": "markdown",
   "id": "f21eada6",
   "metadata": {
    "id": "f21eada6"
   },
   "source": [
    "### Step 4: Data Profiling"
   ]
  },
  {
   "cell_type": "code",
   "execution_count": 45,
   "id": "d6956e41",
   "metadata": {
    "ExecuteTime": {
     "end_time": "2022-11-07T03:32:34.865516Z",
     "start_time": "2022-11-07T03:32:34.854472Z"
    },
    "id": "d6956e41",
    "outputId": "87764c79-bbc3-4d72-c654-d1df5a6cf616"
   },
   "outputs": [
    {
     "data": {
      "text/plain": [
       "Index(['borough', 'street', 'zip_code', 'bldg_type', 'permit_type',\n",
       "       'permit_status', 'permittees_business_name', 'date', 'latitude',\n",
       "       'longitude', 'year', 'median_housing_price', 'new_permit_quantity'],\n",
       "      dtype='object')"
      ]
     },
     "execution_count": 45,
     "metadata": {},
     "output_type": "execute_result"
    }
   ],
   "source": [
    "data.columns"
   ]
  },
  {
   "cell_type": "code",
   "execution_count": 46,
   "id": "72cd88ff",
   "metadata": {
    "ExecuteTime": {
     "end_time": "2022-11-07T03:32:35.635756Z",
     "start_time": "2022-11-07T03:32:35.621345Z"
    },
    "id": "72cd88ff"
   },
   "outputs": [],
   "source": [
    "# create and run a function to ceate data profiling dataframe\n",
    "\n",
    "def create_data_profiling_df(data):\n",
    "    \n",
    "    # create an empty dataframe to gather information about each column\n",
    "    data_profiling_df = pd.DataFrame(columns = [\"column_name\",\n",
    "                                                \"column_type\",\n",
    "                                                \"unique_values\",\n",
    "                                                \"duplicate_values\",\n",
    "                                                \"null_values\",\n",
    "                                                \"non_null_values\"])\n",
    "\n",
    "    # loop through each column to add rows to the data_profiling_df dataframe\n",
    "    for column in data.columns:\n",
    "\n",
    "        info_dict = {}\n",
    "\n",
    "        try:\n",
    "            info_dict[\"column_name\"] = column\n",
    "            info_dict[\"column_type\"] = data[column].dtypes\n",
    "            info_dict[\"unique_values\"] = len(data[column].unique())\n",
    "            info_dict[\"duplicate_values\"] = data[column].count() - len(data[column].dropna().unique())\n",
    "            info_dict[\"null_values\"] = data[column].isna().sum()\n",
    "            info_dict[\"non_null_values\"] = data[column].count()\n",
    "\n",
    "        except:\n",
    "            print(f\"unable to read column: {column}, you may want to drop this column\")\n",
    "\n",
    "        data_profiling_df = data_profiling_df.append(info_dict, ignore_index=True)\n",
    "\n",
    "    data_profiling_df.sort_values(by = ['unique_values', \"non_null_values\"],\n",
    "                                  ascending = [False, False],\n",
    "                                  inplace=True)\n",
    "    \n",
    "    return data_profiling_df"
   ]
  },
  {
   "cell_type": "code",
   "execution_count": 47,
   "id": "2fc941ac",
   "metadata": {
    "ExecuteTime": {
     "end_time": "2022-11-07T03:32:36.786236Z",
     "start_time": "2022-11-07T03:32:36.686017Z"
    },
    "id": "2fc941ac",
    "outputId": "24123531-f2aa-4c8a-aab3-7c0cdc5271b1"
   },
   "outputs": [
    {
     "name": "stderr",
     "output_type": "stream",
     "text": [
      "C:\\Users\\XIAOJIN LI\\AppData\\Local\\Temp\\ipykernel_17828\\3975332968.py:29: FutureWarning: The frame.append method is deprecated and will be removed from pandas in a future version. Use pandas.concat instead.\n",
      "  data_profiling_df = data_profiling_df.append(info_dict, ignore_index=True)\n",
      "C:\\Users\\XIAOJIN LI\\AppData\\Local\\Temp\\ipykernel_17828\\3975332968.py:29: FutureWarning: The frame.append method is deprecated and will be removed from pandas in a future version. Use pandas.concat instead.\n",
      "  data_profiling_df = data_profiling_df.append(info_dict, ignore_index=True)\n",
      "C:\\Users\\XIAOJIN LI\\AppData\\Local\\Temp\\ipykernel_17828\\3975332968.py:29: FutureWarning: The frame.append method is deprecated and will be removed from pandas in a future version. Use pandas.concat instead.\n",
      "  data_profiling_df = data_profiling_df.append(info_dict, ignore_index=True)\n",
      "C:\\Users\\XIAOJIN LI\\AppData\\Local\\Temp\\ipykernel_17828\\3975332968.py:29: FutureWarning: The frame.append method is deprecated and will be removed from pandas in a future version. Use pandas.concat instead.\n",
      "  data_profiling_df = data_profiling_df.append(info_dict, ignore_index=True)\n",
      "C:\\Users\\XIAOJIN LI\\AppData\\Local\\Temp\\ipykernel_17828\\3975332968.py:29: FutureWarning: The frame.append method is deprecated and will be removed from pandas in a future version. Use pandas.concat instead.\n",
      "  data_profiling_df = data_profiling_df.append(info_dict, ignore_index=True)\n",
      "C:\\Users\\XIAOJIN LI\\AppData\\Local\\Temp\\ipykernel_17828\\3975332968.py:29: FutureWarning: The frame.append method is deprecated and will be removed from pandas in a future version. Use pandas.concat instead.\n",
      "  data_profiling_df = data_profiling_df.append(info_dict, ignore_index=True)\n",
      "C:\\Users\\XIAOJIN LI\\AppData\\Local\\Temp\\ipykernel_17828\\3975332968.py:29: FutureWarning: The frame.append method is deprecated and will be removed from pandas in a future version. Use pandas.concat instead.\n",
      "  data_profiling_df = data_profiling_df.append(info_dict, ignore_index=True)\n",
      "C:\\Users\\XIAOJIN LI\\AppData\\Local\\Temp\\ipykernel_17828\\3975332968.py:29: FutureWarning: The frame.append method is deprecated and will be removed from pandas in a future version. Use pandas.concat instead.\n",
      "  data_profiling_df = data_profiling_df.append(info_dict, ignore_index=True)\n",
      "C:\\Users\\XIAOJIN LI\\AppData\\Local\\Temp\\ipykernel_17828\\3975332968.py:29: FutureWarning: The frame.append method is deprecated and will be removed from pandas in a future version. Use pandas.concat instead.\n",
      "  data_profiling_df = data_profiling_df.append(info_dict, ignore_index=True)\n",
      "C:\\Users\\XIAOJIN LI\\AppData\\Local\\Temp\\ipykernel_17828\\3975332968.py:29: FutureWarning: The frame.append method is deprecated and will be removed from pandas in a future version. Use pandas.concat instead.\n",
      "  data_profiling_df = data_profiling_df.append(info_dict, ignore_index=True)\n",
      "C:\\Users\\XIAOJIN LI\\AppData\\Local\\Temp\\ipykernel_17828\\3975332968.py:29: FutureWarning: The frame.append method is deprecated and will be removed from pandas in a future version. Use pandas.concat instead.\n",
      "  data_profiling_df = data_profiling_df.append(info_dict, ignore_index=True)\n",
      "C:\\Users\\XIAOJIN LI\\AppData\\Local\\Temp\\ipykernel_17828\\3975332968.py:29: FutureWarning: The frame.append method is deprecated and will be removed from pandas in a future version. Use pandas.concat instead.\n",
      "  data_profiling_df = data_profiling_df.append(info_dict, ignore_index=True)\n",
      "C:\\Users\\XIAOJIN LI\\AppData\\Local\\Temp\\ipykernel_17828\\3975332968.py:29: FutureWarning: The frame.append method is deprecated and will be removed from pandas in a future version. Use pandas.concat instead.\n",
      "  data_profiling_df = data_profiling_df.append(info_dict, ignore_index=True)\n"
     ]
    }
   ],
   "source": [
    "data_profiling_df = create_data_profiling_df(data=data)"
   ]
  },
  {
   "cell_type": "code",
   "execution_count": 48,
   "id": "681961ad",
   "metadata": {
    "ExecuteTime": {
     "end_time": "2022-11-07T03:32:36.957091Z",
     "start_time": "2022-11-07T03:32:36.945596Z"
    },
    "id": "681961ad",
    "outputId": "1d68a01d-fd00-4587-f0d8-b8bd90ee19d2"
   },
   "outputs": [
    {
     "data": {
      "text/html": [
       "<div>\n",
       "<style scoped>\n",
       "    .dataframe tbody tr th:only-of-type {\n",
       "        vertical-align: middle;\n",
       "    }\n",
       "\n",
       "    .dataframe tbody tr th {\n",
       "        vertical-align: top;\n",
       "    }\n",
       "\n",
       "    .dataframe thead th {\n",
       "        text-align: right;\n",
       "    }\n",
       "</style>\n",
       "<table border=\"1\" class=\"dataframe\">\n",
       "  <thead>\n",
       "    <tr style=\"text-align: right;\">\n",
       "      <th></th>\n",
       "      <th>column_name</th>\n",
       "      <th>column_type</th>\n",
       "      <th>unique_values</th>\n",
       "      <th>duplicate_values</th>\n",
       "      <th>null_values</th>\n",
       "      <th>non_null_values</th>\n",
       "    </tr>\n",
       "  </thead>\n",
       "  <tbody>\n",
       "    <tr>\n",
       "      <th>9</th>\n",
       "      <td>longitude</td>\n",
       "      <td>float64</td>\n",
       "      <td>6962</td>\n",
       "      <td>12260</td>\n",
       "      <td>0</td>\n",
       "      <td>19222</td>\n",
       "    </tr>\n",
       "    <tr>\n",
       "      <th>8</th>\n",
       "      <td>latitude</td>\n",
       "      <td>float64</td>\n",
       "      <td>6945</td>\n",
       "      <td>12277</td>\n",
       "      <td>0</td>\n",
       "      <td>19222</td>\n",
       "    </tr>\n",
       "    <tr>\n",
       "      <th>1</th>\n",
       "      <td>street</td>\n",
       "      <td>object</td>\n",
       "      <td>3187</td>\n",
       "      <td>16035</td>\n",
       "      <td>0</td>\n",
       "      <td>19222</td>\n",
       "    </tr>\n",
       "    <tr>\n",
       "      <th>6</th>\n",
       "      <td>permittees_business_name</td>\n",
       "      <td>object</td>\n",
       "      <td>1789</td>\n",
       "      <td>17433</td>\n",
       "      <td>0</td>\n",
       "      <td>19222</td>\n",
       "    </tr>\n",
       "    <tr>\n",
       "      <th>7</th>\n",
       "      <td>date</td>\n",
       "      <td>datetime64[ns]</td>\n",
       "      <td>886</td>\n",
       "      <td>18336</td>\n",
       "      <td>0</td>\n",
       "      <td>19222</td>\n",
       "    </tr>\n",
       "    <tr>\n",
       "      <th>11</th>\n",
       "      <td>median_housing_price</td>\n",
       "      <td>int64</td>\n",
       "      <td>379</td>\n",
       "      <td>18843</td>\n",
       "      <td>0</td>\n",
       "      <td>19222</td>\n",
       "    </tr>\n",
       "    <tr>\n",
       "      <th>2</th>\n",
       "      <td>zip_code</td>\n",
       "      <td>int64</td>\n",
       "      <td>178</td>\n",
       "      <td>19044</td>\n",
       "      <td>0</td>\n",
       "      <td>19222</td>\n",
       "    </tr>\n",
       "    <tr>\n",
       "      <th>0</th>\n",
       "      <td>borough</td>\n",
       "      <td>object</td>\n",
       "      <td>5</td>\n",
       "      <td>19217</td>\n",
       "      <td>0</td>\n",
       "      <td>19222</td>\n",
       "    </tr>\n",
       "    <tr>\n",
       "      <th>5</th>\n",
       "      <td>permit_status</td>\n",
       "      <td>object</td>\n",
       "      <td>3</td>\n",
       "      <td>19219</td>\n",
       "      <td>0</td>\n",
       "      <td>19222</td>\n",
       "    </tr>\n",
       "    <tr>\n",
       "      <th>10</th>\n",
       "      <td>year</td>\n",
       "      <td>int64</td>\n",
       "      <td>3</td>\n",
       "      <td>19219</td>\n",
       "      <td>0</td>\n",
       "      <td>19222</td>\n",
       "    </tr>\n",
       "    <tr>\n",
       "      <th>3</th>\n",
       "      <td>bldg_type</td>\n",
       "      <td>object</td>\n",
       "      <td>2</td>\n",
       "      <td>19220</td>\n",
       "      <td>0</td>\n",
       "      <td>19222</td>\n",
       "    </tr>\n",
       "    <tr>\n",
       "      <th>4</th>\n",
       "      <td>permit_type</td>\n",
       "      <td>object</td>\n",
       "      <td>1</td>\n",
       "      <td>19221</td>\n",
       "      <td>0</td>\n",
       "      <td>19222</td>\n",
       "    </tr>\n",
       "    <tr>\n",
       "      <th>12</th>\n",
       "      <td>new_permit_quantity</td>\n",
       "      <td>int64</td>\n",
       "      <td>1</td>\n",
       "      <td>19221</td>\n",
       "      <td>0</td>\n",
       "      <td>19222</td>\n",
       "    </tr>\n",
       "  </tbody>\n",
       "</table>\n",
       "</div>"
      ],
      "text/plain": [
       "                 column_name     column_type unique_values duplicate_values  \\\n",
       "9                  longitude         float64          6962            12260   \n",
       "8                   latitude         float64          6945            12277   \n",
       "1                     street          object          3187            16035   \n",
       "6   permittees_business_name          object          1789            17433   \n",
       "7                       date  datetime64[ns]           886            18336   \n",
       "11      median_housing_price           int64           379            18843   \n",
       "2                   zip_code           int64           178            19044   \n",
       "0                    borough          object             5            19217   \n",
       "5              permit_status          object             3            19219   \n",
       "10                      year           int64             3            19219   \n",
       "3                  bldg_type          object             2            19220   \n",
       "4                permit_type          object             1            19221   \n",
       "12       new_permit_quantity           int64             1            19221   \n",
       "\n",
       "   null_values non_null_values  \n",
       "9            0           19222  \n",
       "8            0           19222  \n",
       "1            0           19222  \n",
       "6            0           19222  \n",
       "7            0           19222  \n",
       "11           0           19222  \n",
       "2            0           19222  \n",
       "0            0           19222  \n",
       "5            0           19222  \n",
       "10           0           19222  \n",
       "3            0           19222  \n",
       "4            0           19222  \n",
       "12           0           19222  "
      ]
     },
     "execution_count": 48,
     "metadata": {},
     "output_type": "execute_result"
    }
   ],
   "source": [
    "data_profiling_df"
   ]
  },
  {
   "cell_type": "markdown",
   "id": "bea2d841",
   "metadata": {
    "id": "bea2d841"
   },
   "source": [
    "### Step 5: Data Cleansing"
   ]
  },
  {
   "cell_type": "code",
   "execution_count": 49,
   "id": "f6cfb296",
   "metadata": {
    "ExecuteTime": {
     "end_time": "2022-11-07T03:32:39.138649Z",
     "start_time": "2022-11-07T03:32:39.093340Z"
    },
    "id": "f6cfb296",
    "outputId": "8eefc0f9-2a22-4eec-e8d3-e689aeddbf6c"
   },
   "outputs": [
    {
     "name": "stdout",
     "output_type": "stream",
     "text": [
      "<class 'pandas.core.frame.DataFrame'>\n",
      "Int64Index: 19222 entries, 0 to 19221\n",
      "Data columns (total 13 columns):\n",
      " #   Column                    Non-Null Count  Dtype         \n",
      "---  ------                    --------------  -----         \n",
      " 0   borough                   19222 non-null  object        \n",
      " 1   street                    19222 non-null  object        \n",
      " 2   zip_code                  19222 non-null  int64         \n",
      " 3   bldg_type                 19222 non-null  object        \n",
      " 4   permit_type               19222 non-null  object        \n",
      " 5   permit_status             19222 non-null  object        \n",
      " 6   permittees_business_name  19222 non-null  object        \n",
      " 7   date                      19222 non-null  datetime64[ns]\n",
      " 8   latitude                  19222 non-null  float64       \n",
      " 9   longitude                 19222 non-null  float64       \n",
      " 10  year                      19222 non-null  int64         \n",
      " 11  median_housing_price      19222 non-null  int64         \n",
      " 12  new_permit_quantity       19222 non-null  int64         \n",
      "dtypes: datetime64[ns](1), float64(2), int64(4), object(6)\n",
      "memory usage: 2.1+ MB\n"
     ]
    }
   ],
   "source": [
    "data.info()"
   ]
  },
  {
   "cell_type": "code",
   "execution_count": 50,
   "id": "a315dcde",
   "metadata": {
    "ExecuteTime": {
     "end_time": "2022-11-07T03:32:39.404509Z",
     "start_time": "2022-11-07T03:32:39.361156Z"
    },
    "id": "a315dcde",
    "outputId": "7239d729-08d9-4382-f15a-1155fbe18fd6"
   },
   "outputs": [
    {
     "name": "stdout",
     "output_type": "stream",
     "text": [
      "number of duplicate rows: 0\n"
     ]
    }
   ],
   "source": [
    "# find number of duplicate rows\n",
    "\n",
    "print(f\"number of duplicate rows: {len(data[data.duplicated()])}\")"
   ]
  },
  {
   "cell_type": "code",
   "execution_count": 51,
   "id": "42adb15c",
   "metadata": {
    "ExecuteTime": {
     "end_time": "2022-11-07T03:32:39.882704Z",
     "start_time": "2022-11-07T03:32:39.841246Z"
    },
    "id": "42adb15c",
    "outputId": "7531d763-1027-477c-edd4-0b4641881ba9"
   },
   "outputs": [
    {
     "name": "stdout",
     "output_type": "stream",
     "text": [
      "number of rows after duplicates dropped: 19222\n"
     ]
    }
   ],
   "source": [
    "data = data.drop_duplicates(keep = 'first')\n",
    "print(f\"number of rows after duplicates dropped: {len(data)}\")"
   ]
  },
  {
   "cell_type": "markdown",
   "id": "D2KCLrGvWDf3",
   "metadata": {
    "id": "D2KCLrGvWDf3"
   },
   "source": [
    "### Step 6: Create location dimension table"
   ]
  },
  {
   "cell_type": "code",
   "execution_count": 52,
   "id": "a7a3e55e",
   "metadata": {
    "ExecuteTime": {
     "end_time": "2022-11-07T03:32:40.671362Z",
     "start_time": "2022-11-07T03:32:40.653807Z"
    },
    "id": "a7a3e55e"
   },
   "outputs": [],
   "source": [
    "# first, copy the entire table\n",
    "Location_dim = data.copy()"
   ]
  },
  {
   "cell_type": "code",
   "execution_count": 53,
   "id": "0b6909f7",
   "metadata": {
    "ExecuteTime": {
     "end_time": "2022-11-07T03:32:46.527411Z",
     "start_time": "2022-11-07T03:32:46.512239Z"
    },
    "id": "0b6909f7",
    "outputId": "1d7d604d-8ff0-4128-82f8-7ebfcf77c6d9"
   },
   "outputs": [
    {
     "data": {
      "text/plain": [
       "(19222, 5)"
      ]
     },
     "execution_count": 53,
     "metadata": {},
     "output_type": "execute_result"
    }
   ],
   "source": [
    "# second, subset for only the wanted columns in the dimension\n",
    "Location_dim = Location_dim[['borough','zip_code','street','longitude','latitude']]\n",
    "Location_dim.shape"
   ]
  },
  {
   "cell_type": "code",
   "execution_count": 54,
   "id": "f8256635",
   "metadata": {
    "ExecuteTime": {
     "end_time": "2022-11-07T03:32:47.802249Z",
     "start_time": "2022-11-07T03:32:47.776538Z"
    },
    "id": "f8256635",
    "outputId": "d04ed7de-d37f-403b-9d59-324f4c3b5bde"
   },
   "outputs": [
    {
     "data": {
      "text/plain": [
       "(7218, 5)"
      ]
     },
     "execution_count": 54,
     "metadata": {},
     "output_type": "execute_result"
    }
   ],
   "source": [
    "# third, drop duplicate rows in dimension\n",
    "unique_row =['borough','zip_code','street','longitude','latitude']\n",
    "Location_dim = Location_dim.drop_duplicates(subset = unique_row, keep = 'first')\n",
    "Location_dim = Location_dim.reset_index(drop = True)\n",
    "Location_dim.shape"
   ]
  },
  {
   "cell_type": "code",
   "execution_count": 55,
   "id": "289c091b",
   "metadata": {
    "ExecuteTime": {
     "end_time": "2022-11-07T03:32:53.668077Z",
     "start_time": "2022-11-07T03:32:53.660127Z"
    },
    "id": "289c091b"
   },
   "outputs": [],
   "source": [
    "# fourth, add location_id as a surrogate key\n",
    "Location_dim.insert(0, 'location_id', range(1, 1 + len(Location_dim)))"
   ]
  },
  {
   "cell_type": "code",
   "execution_count": 56,
   "id": "0b0d5bbe",
   "metadata": {
    "ExecuteTime": {
     "end_time": "2022-11-07T03:32:55.059858Z",
     "start_time": "2022-11-07T03:32:55.038052Z"
    },
    "id": "0b0d5bbe",
    "outputId": "9de5554e-83d1-4e88-ef25-507e0d45b93f"
   },
   "outputs": [
    {
     "data": {
      "text/html": [
       "<div>\n",
       "<style scoped>\n",
       "    .dataframe tbody tr th:only-of-type {\n",
       "        vertical-align: middle;\n",
       "    }\n",
       "\n",
       "    .dataframe tbody tr th {\n",
       "        vertical-align: top;\n",
       "    }\n",
       "\n",
       "    .dataframe thead th {\n",
       "        text-align: right;\n",
       "    }\n",
       "</style>\n",
       "<table border=\"1\" class=\"dataframe\">\n",
       "  <thead>\n",
       "    <tr style=\"text-align: right;\">\n",
       "      <th></th>\n",
       "      <th>location_id</th>\n",
       "      <th>borough</th>\n",
       "      <th>zip_code</th>\n",
       "      <th>street</th>\n",
       "      <th>longitude</th>\n",
       "      <th>latitude</th>\n",
       "    </tr>\n",
       "  </thead>\n",
       "  <tbody>\n",
       "    <tr>\n",
       "      <th>0</th>\n",
       "      <td>1</td>\n",
       "      <td>BROOKLYN</td>\n",
       "      <td>11210</td>\n",
       "      <td>EAST 22 STREET</td>\n",
       "      <td>-73.953736</td>\n",
       "      <td>40.622307</td>\n",
       "    </tr>\n",
       "    <tr>\n",
       "      <th>1</th>\n",
       "      <td>2</td>\n",
       "      <td>BROOKLYN</td>\n",
       "      <td>11210</td>\n",
       "      <td>FLATBUSH AVENUE</td>\n",
       "      <td>-73.953055</td>\n",
       "      <td>40.637919</td>\n",
       "    </tr>\n",
       "    <tr>\n",
       "      <th>2</th>\n",
       "      <td>3</td>\n",
       "      <td>BROOKLYN</td>\n",
       "      <td>11210</td>\n",
       "      <td>ROGERS AVENUE</td>\n",
       "      <td>-73.950995</td>\n",
       "      <td>40.636955</td>\n",
       "    </tr>\n",
       "    <tr>\n",
       "      <th>3</th>\n",
       "      <td>4</td>\n",
       "      <td>BROOKLYN</td>\n",
       "      <td>11210</td>\n",
       "      <td>EAST 32 STREET</td>\n",
       "      <td>-73.945784</td>\n",
       "      <td>40.633264</td>\n",
       "    </tr>\n",
       "    <tr>\n",
       "      <th>4</th>\n",
       "      <td>5</td>\n",
       "      <td>BROOKLYN</td>\n",
       "      <td>11210</td>\n",
       "      <td>NEW YORK AVENUE</td>\n",
       "      <td>-73.945176</td>\n",
       "      <td>40.636835</td>\n",
       "    </tr>\n",
       "    <tr>\n",
       "      <th>...</th>\n",
       "      <td>...</td>\n",
       "      <td>...</td>\n",
       "      <td>...</td>\n",
       "      <td>...</td>\n",
       "      <td>...</td>\n",
       "      <td>...</td>\n",
       "    </tr>\n",
       "    <tr>\n",
       "      <th>7213</th>\n",
       "      <td>7214</td>\n",
       "      <td>MANHATTAN</td>\n",
       "      <td>10014</td>\n",
       "      <td>GREENWICH STREET</td>\n",
       "      <td>-74.008757</td>\n",
       "      <td>40.727941</td>\n",
       "    </tr>\n",
       "    <tr>\n",
       "      <th>7214</th>\n",
       "      <td>7215</td>\n",
       "      <td>MANHATTAN</td>\n",
       "      <td>10038</td>\n",
       "      <td>BEEKMAN STREET</td>\n",
       "      <td>-74.006298</td>\n",
       "      <td>40.711050</td>\n",
       "    </tr>\n",
       "    <tr>\n",
       "      <th>7215</th>\n",
       "      <td>7216</td>\n",
       "      <td>MANHATTAN</td>\n",
       "      <td>10034</td>\n",
       "      <td>BROADWAY</td>\n",
       "      <td>-73.926075</td>\n",
       "      <td>40.865947</td>\n",
       "    </tr>\n",
       "    <tr>\n",
       "      <th>7216</th>\n",
       "      <td>7217</td>\n",
       "      <td>MANHATTAN</td>\n",
       "      <td>10034</td>\n",
       "      <td>WEST 218 STREET</td>\n",
       "      <td>-73.912431</td>\n",
       "      <td>40.870513</td>\n",
       "    </tr>\n",
       "    <tr>\n",
       "      <th>7217</th>\n",
       "      <td>7218</td>\n",
       "      <td>MANHATTAN</td>\n",
       "      <td>10034</td>\n",
       "      <td>WEST 218 STREET</td>\n",
       "      <td>-73.918203</td>\n",
       "      <td>40.872927</td>\n",
       "    </tr>\n",
       "  </tbody>\n",
       "</table>\n",
       "<p>7218 rows × 6 columns</p>\n",
       "</div>"
      ],
      "text/plain": [
       "      location_id    borough  zip_code            street  longitude   latitude\n",
       "0               1   BROOKLYN     11210    EAST 22 STREET -73.953736  40.622307\n",
       "1               2   BROOKLYN     11210   FLATBUSH AVENUE -73.953055  40.637919\n",
       "2               3   BROOKLYN     11210     ROGERS AVENUE -73.950995  40.636955\n",
       "3               4   BROOKLYN     11210    EAST 32 STREET -73.945784  40.633264\n",
       "4               5   BROOKLYN     11210   NEW YORK AVENUE -73.945176  40.636835\n",
       "...           ...        ...       ...               ...        ...        ...\n",
       "7213         7214  MANHATTAN     10014  GREENWICH STREET -74.008757  40.727941\n",
       "7214         7215  MANHATTAN     10038    BEEKMAN STREET -74.006298  40.711050\n",
       "7215         7216  MANHATTAN     10034          BROADWAY -73.926075  40.865947\n",
       "7216         7217  MANHATTAN     10034   WEST 218 STREET -73.912431  40.870513\n",
       "7217         7218  MANHATTAN     10034   WEST 218 STREET -73.918203  40.872927\n",
       "\n",
       "[7218 rows x 6 columns]"
      ]
     },
     "execution_count": 56,
     "metadata": {},
     "output_type": "execute_result"
    }
   ],
   "source": [
    "Location_dim"
   ]
  },
  {
   "cell_type": "code",
   "execution_count": 57,
   "id": "2180f35a",
   "metadata": {
    "ExecuteTime": {
     "end_time": "2022-11-07T03:33:00.007754Z",
     "start_time": "2022-11-07T03:32:59.958008Z"
    },
    "id": "2180f35a"
   },
   "outputs": [],
   "source": [
    "# fifth, add the location_id to the df table\n",
    "data = data.merge(Location_dim,\n",
    "                  left_on = unique_row,\n",
    "                  right_on = unique_row,\n",
    "                  how = 'left')"
   ]
  },
  {
   "cell_type": "code",
   "execution_count": 58,
   "id": "1c62ba5b",
   "metadata": {
    "ExecuteTime": {
     "end_time": "2022-11-07T03:33:02.248534Z",
     "start_time": "2022-11-07T03:33:02.226409Z"
    },
    "id": "1c62ba5b",
    "outputId": "8ec66231-958d-4945-e754-e464e52e3dc1"
   },
   "outputs": [
    {
     "data": {
      "text/html": [
       "<div>\n",
       "<style scoped>\n",
       "    .dataframe tbody tr th:only-of-type {\n",
       "        vertical-align: middle;\n",
       "    }\n",
       "\n",
       "    .dataframe tbody tr th {\n",
       "        vertical-align: top;\n",
       "    }\n",
       "\n",
       "    .dataframe thead th {\n",
       "        text-align: right;\n",
       "    }\n",
       "</style>\n",
       "<table border=\"1\" class=\"dataframe\">\n",
       "  <thead>\n",
       "    <tr style=\"text-align: right;\">\n",
       "      <th></th>\n",
       "      <th>borough</th>\n",
       "      <th>street</th>\n",
       "      <th>zip_code</th>\n",
       "      <th>bldg_type</th>\n",
       "      <th>permit_type</th>\n",
       "      <th>permit_status</th>\n",
       "      <th>permittees_business_name</th>\n",
       "      <th>date</th>\n",
       "      <th>latitude</th>\n",
       "      <th>longitude</th>\n",
       "      <th>year</th>\n",
       "      <th>median_housing_price</th>\n",
       "      <th>new_permit_quantity</th>\n",
       "      <th>location_id</th>\n",
       "    </tr>\n",
       "  </thead>\n",
       "  <tbody>\n",
       "    <tr>\n",
       "      <th>0</th>\n",
       "      <td>BROOKLYN</td>\n",
       "      <td>EAST 22 STREET</td>\n",
       "      <td>11210</td>\n",
       "      <td>1</td>\n",
       "      <td>NB</td>\n",
       "      <td>ISSUED</td>\n",
       "      <td>LOUIS PERL CONTRACTING LT</td>\n",
       "      <td>2019-09-24</td>\n",
       "      <td>40.622307</td>\n",
       "      <td>-73.953736</td>\n",
       "      <td>2019</td>\n",
       "      <td>772000</td>\n",
       "      <td>1</td>\n",
       "      <td>1</td>\n",
       "    </tr>\n",
       "    <tr>\n",
       "      <th>1</th>\n",
       "      <td>BROOKLYN</td>\n",
       "      <td>FLATBUSH AVENUE</td>\n",
       "      <td>11210</td>\n",
       "      <td>2</td>\n",
       "      <td>NB</td>\n",
       "      <td>ISSUED</td>\n",
       "      <td>SUPREME BUILDERS &amp; DEVELO</td>\n",
       "      <td>2019-05-10</td>\n",
       "      <td>40.637919</td>\n",
       "      <td>-73.953055</td>\n",
       "      <td>2019</td>\n",
       "      <td>772000</td>\n",
       "      <td>1</td>\n",
       "      <td>2</td>\n",
       "    </tr>\n",
       "    <tr>\n",
       "      <th>2</th>\n",
       "      <td>BROOKLYN</td>\n",
       "      <td>ROGERS AVENUE</td>\n",
       "      <td>11210</td>\n",
       "      <td>2</td>\n",
       "      <td>NB</td>\n",
       "      <td>ISSUED</td>\n",
       "      <td>M. MELNICK &amp; COMPANY INC</td>\n",
       "      <td>2019-03-28</td>\n",
       "      <td>40.636955</td>\n",
       "      <td>-73.950995</td>\n",
       "      <td>2019</td>\n",
       "      <td>772000</td>\n",
       "      <td>1</td>\n",
       "      <td>3</td>\n",
       "    </tr>\n",
       "    <tr>\n",
       "      <th>3</th>\n",
       "      <td>BROOKLYN</td>\n",
       "      <td>EAST 32 STREET</td>\n",
       "      <td>11210</td>\n",
       "      <td>2</td>\n",
       "      <td>NB</td>\n",
       "      <td>ISSUED</td>\n",
       "      <td>Y&amp;L INTERIOR LLC</td>\n",
       "      <td>2019-04-30</td>\n",
       "      <td>40.633264</td>\n",
       "      <td>-73.945784</td>\n",
       "      <td>2019</td>\n",
       "      <td>772000</td>\n",
       "      <td>1</td>\n",
       "      <td>4</td>\n",
       "    </tr>\n",
       "    <tr>\n",
       "      <th>4</th>\n",
       "      <td>BROOKLYN</td>\n",
       "      <td>NEW YORK AVENUE</td>\n",
       "      <td>11210</td>\n",
       "      <td>2</td>\n",
       "      <td>NB</td>\n",
       "      <td>ISSUED</td>\n",
       "      <td>LEMLE &amp; WOLFF CONSTR CORP</td>\n",
       "      <td>2019-01-03</td>\n",
       "      <td>40.636835</td>\n",
       "      <td>-73.945176</td>\n",
       "      <td>2019</td>\n",
       "      <td>772000</td>\n",
       "      <td>1</td>\n",
       "      <td>5</td>\n",
       "    </tr>\n",
       "  </tbody>\n",
       "</table>\n",
       "</div>"
      ],
      "text/plain": [
       "    borough           street  zip_code bldg_type permit_type permit_status  \\\n",
       "0  BROOKLYN   EAST 22 STREET     11210         1          NB        ISSUED   \n",
       "1  BROOKLYN  FLATBUSH AVENUE     11210         2          NB        ISSUED   \n",
       "2  BROOKLYN    ROGERS AVENUE     11210         2          NB        ISSUED   \n",
       "3  BROOKLYN   EAST 32 STREET     11210         2          NB        ISSUED   \n",
       "4  BROOKLYN  NEW YORK AVENUE     11210         2          NB        ISSUED   \n",
       "\n",
       "    permittees_business_name       date   latitude  longitude  year  \\\n",
       "0  LOUIS PERL CONTRACTING LT 2019-09-24  40.622307 -73.953736  2019   \n",
       "1  SUPREME BUILDERS & DEVELO 2019-05-10  40.637919 -73.953055  2019   \n",
       "2   M. MELNICK & COMPANY INC 2019-03-28  40.636955 -73.950995  2019   \n",
       "3           Y&L INTERIOR LLC 2019-04-30  40.633264 -73.945784  2019   \n",
       "4  LEMLE & WOLFF CONSTR CORP 2019-01-03  40.636835 -73.945176  2019   \n",
       "\n",
       "   median_housing_price  new_permit_quantity  location_id  \n",
       "0                772000                    1            1  \n",
       "1                772000                    1            2  \n",
       "2                772000                    1            3  \n",
       "3                772000                    1            4  \n",
       "4                772000                    1            5  "
      ]
     },
     "execution_count": 58,
     "metadata": {},
     "output_type": "execute_result"
    }
   ],
   "source": [
    "data.head()"
   ]
  },
  {
   "cell_type": "markdown",
   "id": "a33052be",
   "metadata": {
    "id": "a33052be"
   },
   "source": [
    "### Step 7: Create date dimension table"
   ]
  },
  {
   "cell_type": "code",
   "execution_count": 59,
   "id": "a70358ce",
   "metadata": {},
   "outputs": [],
   "source": [
    "# first, copy the entire table\n",
    "dateDim = data.copy()"
   ]
  },
  {
   "cell_type": "code",
   "execution_count": 60,
   "id": "709dc48d",
   "metadata": {},
   "outputs": [],
   "source": [
    "dateDim = dateDim[[\"date\",'year']]"
   ]
  },
  {
   "cell_type": "code",
   "execution_count": 61,
   "id": "97e78bb2",
   "metadata": {},
   "outputs": [],
   "source": [
    "dateDim=dateDim[~dateDim['date'].dt.date.duplicated()]\n",
    "dateDim['month'] = dateDim['date'].dt.month\n",
    "# create date_id column in the dateDim table\n",
    "dateDim['date_id'] = dateDim['date'].apply(lambda x: pd.to_datetime(x).strftime(\"%Y%m%d\"))\n",
    "dateDim = dateDim.reset_index(drop = True)"
   ]
  },
  {
   "cell_type": "code",
   "execution_count": 62,
   "id": "5c7304b2",
   "metadata": {
    "ExecuteTime": {
     "end_time": "2022-11-07T03:33:56.243154Z",
     "start_time": "2022-11-07T03:33:56.217353Z"
    },
    "id": "5c7304b2",
    "outputId": "247b5062-b0e9-44f6-8f65-3a6070d48809"
   },
   "outputs": [],
   "source": [
    "# create date_id column in the data table\n",
    "data['date_id'] = data['date'].apply(lambda x: pd.to_datetime(x).strftime(\"%Y%m%d\"))"
   ]
  },
  {
   "cell_type": "code",
   "execution_count": 63,
   "id": "287f8dfd",
   "metadata": {},
   "outputs": [
    {
     "data": {
      "text/html": [
       "<div>\n",
       "<style scoped>\n",
       "    .dataframe tbody tr th:only-of-type {\n",
       "        vertical-align: middle;\n",
       "    }\n",
       "\n",
       "    .dataframe tbody tr th {\n",
       "        vertical-align: top;\n",
       "    }\n",
       "\n",
       "    .dataframe thead th {\n",
       "        text-align: right;\n",
       "    }\n",
       "</style>\n",
       "<table border=\"1\" class=\"dataframe\">\n",
       "  <thead>\n",
       "    <tr style=\"text-align: right;\">\n",
       "      <th></th>\n",
       "      <th>borough</th>\n",
       "      <th>street</th>\n",
       "      <th>zip_code</th>\n",
       "      <th>bldg_type</th>\n",
       "      <th>permit_type</th>\n",
       "      <th>permit_status</th>\n",
       "      <th>permittees_business_name</th>\n",
       "      <th>date</th>\n",
       "      <th>latitude</th>\n",
       "      <th>longitude</th>\n",
       "      <th>year</th>\n",
       "      <th>median_housing_price</th>\n",
       "      <th>new_permit_quantity</th>\n",
       "      <th>location_id</th>\n",
       "      <th>date_id</th>\n",
       "    </tr>\n",
       "  </thead>\n",
       "  <tbody>\n",
       "    <tr>\n",
       "      <th>0</th>\n",
       "      <td>BROOKLYN</td>\n",
       "      <td>EAST 22 STREET</td>\n",
       "      <td>11210</td>\n",
       "      <td>1</td>\n",
       "      <td>NB</td>\n",
       "      <td>ISSUED</td>\n",
       "      <td>LOUIS PERL CONTRACTING LT</td>\n",
       "      <td>2019-09-24</td>\n",
       "      <td>40.622307</td>\n",
       "      <td>-73.953736</td>\n",
       "      <td>2019</td>\n",
       "      <td>772000</td>\n",
       "      <td>1</td>\n",
       "      <td>1</td>\n",
       "      <td>20190924</td>\n",
       "    </tr>\n",
       "    <tr>\n",
       "      <th>1</th>\n",
       "      <td>BROOKLYN</td>\n",
       "      <td>FLATBUSH AVENUE</td>\n",
       "      <td>11210</td>\n",
       "      <td>2</td>\n",
       "      <td>NB</td>\n",
       "      <td>ISSUED</td>\n",
       "      <td>SUPREME BUILDERS &amp; DEVELO</td>\n",
       "      <td>2019-05-10</td>\n",
       "      <td>40.637919</td>\n",
       "      <td>-73.953055</td>\n",
       "      <td>2019</td>\n",
       "      <td>772000</td>\n",
       "      <td>1</td>\n",
       "      <td>2</td>\n",
       "      <td>20190510</td>\n",
       "    </tr>\n",
       "    <tr>\n",
       "      <th>2</th>\n",
       "      <td>BROOKLYN</td>\n",
       "      <td>ROGERS AVENUE</td>\n",
       "      <td>11210</td>\n",
       "      <td>2</td>\n",
       "      <td>NB</td>\n",
       "      <td>ISSUED</td>\n",
       "      <td>M. MELNICK &amp; COMPANY INC</td>\n",
       "      <td>2019-03-28</td>\n",
       "      <td>40.636955</td>\n",
       "      <td>-73.950995</td>\n",
       "      <td>2019</td>\n",
       "      <td>772000</td>\n",
       "      <td>1</td>\n",
       "      <td>3</td>\n",
       "      <td>20190328</td>\n",
       "    </tr>\n",
       "    <tr>\n",
       "      <th>3</th>\n",
       "      <td>BROOKLYN</td>\n",
       "      <td>EAST 32 STREET</td>\n",
       "      <td>11210</td>\n",
       "      <td>2</td>\n",
       "      <td>NB</td>\n",
       "      <td>ISSUED</td>\n",
       "      <td>Y&amp;L INTERIOR LLC</td>\n",
       "      <td>2019-04-30</td>\n",
       "      <td>40.633264</td>\n",
       "      <td>-73.945784</td>\n",
       "      <td>2019</td>\n",
       "      <td>772000</td>\n",
       "      <td>1</td>\n",
       "      <td>4</td>\n",
       "      <td>20190430</td>\n",
       "    </tr>\n",
       "    <tr>\n",
       "      <th>4</th>\n",
       "      <td>BROOKLYN</td>\n",
       "      <td>NEW YORK AVENUE</td>\n",
       "      <td>11210</td>\n",
       "      <td>2</td>\n",
       "      <td>NB</td>\n",
       "      <td>ISSUED</td>\n",
       "      <td>LEMLE &amp; WOLFF CONSTR CORP</td>\n",
       "      <td>2019-01-03</td>\n",
       "      <td>40.636835</td>\n",
       "      <td>-73.945176</td>\n",
       "      <td>2019</td>\n",
       "      <td>772000</td>\n",
       "      <td>1</td>\n",
       "      <td>5</td>\n",
       "      <td>20190103</td>\n",
       "    </tr>\n",
       "    <tr>\n",
       "      <th>...</th>\n",
       "      <td>...</td>\n",
       "      <td>...</td>\n",
       "      <td>...</td>\n",
       "      <td>...</td>\n",
       "      <td>...</td>\n",
       "      <td>...</td>\n",
       "      <td>...</td>\n",
       "      <td>...</td>\n",
       "      <td>...</td>\n",
       "      <td>...</td>\n",
       "      <td>...</td>\n",
       "      <td>...</td>\n",
       "      <td>...</td>\n",
       "      <td>...</td>\n",
       "      <td>...</td>\n",
       "    </tr>\n",
       "    <tr>\n",
       "      <th>19217</th>\n",
       "      <td>MANHATTAN</td>\n",
       "      <td>EAST 132 STREET</td>\n",
       "      <td>10037</td>\n",
       "      <td>2</td>\n",
       "      <td>NB</td>\n",
       "      <td>ISSUED</td>\n",
       "      <td>DEDAJ CONSTRUCTION CORP</td>\n",
       "      <td>2021-06-16</td>\n",
       "      <td>40.810646</td>\n",
       "      <td>-73.938541</td>\n",
       "      <td>2021</td>\n",
       "      <td>450000</td>\n",
       "      <td>1</td>\n",
       "      <td>4741</td>\n",
       "      <td>20210616</td>\n",
       "    </tr>\n",
       "    <tr>\n",
       "      <th>19218</th>\n",
       "      <td>MANHATTAN</td>\n",
       "      <td>BROADWAY</td>\n",
       "      <td>10034</td>\n",
       "      <td>2</td>\n",
       "      <td>NB</td>\n",
       "      <td>ISSUED</td>\n",
       "      <td>MEGA CONTRACTING GP LLC</td>\n",
       "      <td>2021-08-03</td>\n",
       "      <td>40.865947</td>\n",
       "      <td>-73.926075</td>\n",
       "      <td>2021</td>\n",
       "      <td>465000</td>\n",
       "      <td>1</td>\n",
       "      <td>7216</td>\n",
       "      <td>20210803</td>\n",
       "    </tr>\n",
       "    <tr>\n",
       "      <th>19219</th>\n",
       "      <td>MANHATTAN</td>\n",
       "      <td>WEST 218 STREET</td>\n",
       "      <td>10034</td>\n",
       "      <td>2</td>\n",
       "      <td>NB</td>\n",
       "      <td>ISSUED</td>\n",
       "      <td>BOLIVAR BUILDERS, LLC</td>\n",
       "      <td>2021-09-30</td>\n",
       "      <td>40.870513</td>\n",
       "      <td>-73.912431</td>\n",
       "      <td>2021</td>\n",
       "      <td>465000</td>\n",
       "      <td>1</td>\n",
       "      <td>7217</td>\n",
       "      <td>20210930</td>\n",
       "    </tr>\n",
       "    <tr>\n",
       "      <th>19220</th>\n",
       "      <td>MANHATTAN</td>\n",
       "      <td>BROADWAY</td>\n",
       "      <td>10034</td>\n",
       "      <td>2</td>\n",
       "      <td>NB</td>\n",
       "      <td>ISSUED</td>\n",
       "      <td>MEGA CONTRACTING GP LLC</td>\n",
       "      <td>2021-10-12</td>\n",
       "      <td>40.865947</td>\n",
       "      <td>-73.926075</td>\n",
       "      <td>2021</td>\n",
       "      <td>465000</td>\n",
       "      <td>1</td>\n",
       "      <td>7216</td>\n",
       "      <td>20211012</td>\n",
       "    </tr>\n",
       "    <tr>\n",
       "      <th>19221</th>\n",
       "      <td>MANHATTAN</td>\n",
       "      <td>WEST 218 STREET</td>\n",
       "      <td>10034</td>\n",
       "      <td>2</td>\n",
       "      <td>NB</td>\n",
       "      <td>ISSUED</td>\n",
       "      <td>PLAZA CONSTRUCTION LLC</td>\n",
       "      <td>2021-10-21</td>\n",
       "      <td>40.872927</td>\n",
       "      <td>-73.918203</td>\n",
       "      <td>2021</td>\n",
       "      <td>465000</td>\n",
       "      <td>1</td>\n",
       "      <td>7218</td>\n",
       "      <td>20211021</td>\n",
       "    </tr>\n",
       "  </tbody>\n",
       "</table>\n",
       "<p>19222 rows × 15 columns</p>\n",
       "</div>"
      ],
      "text/plain": [
       "         borough           street  zip_code bldg_type permit_type  \\\n",
       "0       BROOKLYN   EAST 22 STREET     11210         1          NB   \n",
       "1       BROOKLYN  FLATBUSH AVENUE     11210         2          NB   \n",
       "2       BROOKLYN    ROGERS AVENUE     11210         2          NB   \n",
       "3       BROOKLYN   EAST 32 STREET     11210         2          NB   \n",
       "4       BROOKLYN  NEW YORK AVENUE     11210         2          NB   \n",
       "...          ...              ...       ...       ...         ...   \n",
       "19217  MANHATTAN  EAST 132 STREET     10037         2          NB   \n",
       "19218  MANHATTAN         BROADWAY     10034         2          NB   \n",
       "19219  MANHATTAN  WEST 218 STREET     10034         2          NB   \n",
       "19220  MANHATTAN         BROADWAY     10034         2          NB   \n",
       "19221  MANHATTAN  WEST 218 STREET     10034         2          NB   \n",
       "\n",
       "      permit_status   permittees_business_name       date   latitude  \\\n",
       "0            ISSUED  LOUIS PERL CONTRACTING LT 2019-09-24  40.622307   \n",
       "1            ISSUED  SUPREME BUILDERS & DEVELO 2019-05-10  40.637919   \n",
       "2            ISSUED   M. MELNICK & COMPANY INC 2019-03-28  40.636955   \n",
       "3            ISSUED           Y&L INTERIOR LLC 2019-04-30  40.633264   \n",
       "4            ISSUED  LEMLE & WOLFF CONSTR CORP 2019-01-03  40.636835   \n",
       "...             ...                        ...        ...        ...   \n",
       "19217        ISSUED    DEDAJ CONSTRUCTION CORP 2021-06-16  40.810646   \n",
       "19218        ISSUED    MEGA CONTRACTING GP LLC 2021-08-03  40.865947   \n",
       "19219        ISSUED      BOLIVAR BUILDERS, LLC 2021-09-30  40.870513   \n",
       "19220        ISSUED    MEGA CONTRACTING GP LLC 2021-10-12  40.865947   \n",
       "19221        ISSUED     PLAZA CONSTRUCTION LLC 2021-10-21  40.872927   \n",
       "\n",
       "       longitude  year  median_housing_price  new_permit_quantity  \\\n",
       "0     -73.953736  2019                772000                    1   \n",
       "1     -73.953055  2019                772000                    1   \n",
       "2     -73.950995  2019                772000                    1   \n",
       "3     -73.945784  2019                772000                    1   \n",
       "4     -73.945176  2019                772000                    1   \n",
       "...          ...   ...                   ...                  ...   \n",
       "19217 -73.938541  2021                450000                    1   \n",
       "19218 -73.926075  2021                465000                    1   \n",
       "19219 -73.912431  2021                465000                    1   \n",
       "19220 -73.926075  2021                465000                    1   \n",
       "19221 -73.918203  2021                465000                    1   \n",
       "\n",
       "       location_id   date_id  \n",
       "0                1  20190924  \n",
       "1                2  20190510  \n",
       "2                3  20190328  \n",
       "3                4  20190430  \n",
       "4                5  20190103  \n",
       "...            ...       ...  \n",
       "19217         4741  20210616  \n",
       "19218         7216  20210803  \n",
       "19219         7217  20210930  \n",
       "19220         7216  20211012  \n",
       "19221         7218  20211021  \n",
       "\n",
       "[19222 rows x 15 columns]"
      ]
     },
     "execution_count": 63,
     "metadata": {},
     "output_type": "execute_result"
    }
   ],
   "source": [
    "data"
   ]
  },
  {
   "cell_type": "markdown",
   "id": "NYXlJ0cbXmcK",
   "metadata": {
    "id": "NYXlJ0cbXmcK"
   },
   "source": [
    "### Step 8: Create permit dimension table"
   ]
  },
  {
   "cell_type": "code",
   "execution_count": 64,
   "id": "78d3d71b",
   "metadata": {
    "ExecuteTime": {
     "end_time": "2022-11-07T03:34:09.593307Z",
     "start_time": "2022-11-07T03:34:09.567148Z"
    },
    "id": "78d3d71b"
   },
   "outputs": [],
   "source": [
    "# first, copy the entire table\n",
    "\n",
    "Permit_dim = data.copy()"
   ]
  },
  {
   "cell_type": "code",
   "execution_count": 65,
   "id": "pl1OVbBtWZnu",
   "metadata": {
    "ExecuteTime": {
     "end_time": "2022-11-07T03:35:20.468421Z",
     "start_time": "2022-11-07T03:35:20.449993Z"
    },
    "id": "pl1OVbBtWZnu"
   },
   "outputs": [],
   "source": [
    "# second, subset for only the wanted columns in the dimension\n",
    "\n",
    "Permit_dim = Permit_dim[[\"permit_type\",\"permittees_business_name\",\"permit_status\"]]"
   ]
  },
  {
   "cell_type": "code",
   "execution_count": 66,
   "id": "zwB1Fq9zWdmq",
   "metadata": {
    "ExecuteTime": {
     "end_time": "2022-11-07T03:35:22.196054Z",
     "start_time": "2022-11-07T03:35:22.166145Z"
    },
    "id": "zwB1Fq9zWdmq",
    "outputId": "ce979499-4dca-4977-a62c-e422753a3cd2"
   },
   "outputs": [
    {
     "data": {
      "text/html": [
       "<div>\n",
       "<style scoped>\n",
       "    .dataframe tbody tr th:only-of-type {\n",
       "        vertical-align: middle;\n",
       "    }\n",
       "\n",
       "    .dataframe tbody tr th {\n",
       "        vertical-align: top;\n",
       "    }\n",
       "\n",
       "    .dataframe thead th {\n",
       "        text-align: right;\n",
       "    }\n",
       "</style>\n",
       "<table border=\"1\" class=\"dataframe\">\n",
       "  <thead>\n",
       "    <tr style=\"text-align: right;\">\n",
       "      <th></th>\n",
       "      <th>permit_type</th>\n",
       "      <th>permittees_business_name</th>\n",
       "      <th>permit_status</th>\n",
       "    </tr>\n",
       "  </thead>\n",
       "  <tbody>\n",
       "    <tr>\n",
       "      <th>0</th>\n",
       "      <td>NB</td>\n",
       "      <td>LOUIS PERL CONTRACTING LT</td>\n",
       "      <td>ISSUED</td>\n",
       "    </tr>\n",
       "    <tr>\n",
       "      <th>1</th>\n",
       "      <td>NB</td>\n",
       "      <td>SUPREME BUILDERS &amp; DEVELO</td>\n",
       "      <td>ISSUED</td>\n",
       "    </tr>\n",
       "    <tr>\n",
       "      <th>2</th>\n",
       "      <td>NB</td>\n",
       "      <td>M. MELNICK &amp; COMPANY INC</td>\n",
       "      <td>ISSUED</td>\n",
       "    </tr>\n",
       "    <tr>\n",
       "      <th>3</th>\n",
       "      <td>NB</td>\n",
       "      <td>Y&amp;L INTERIOR LLC</td>\n",
       "      <td>ISSUED</td>\n",
       "    </tr>\n",
       "    <tr>\n",
       "      <th>4</th>\n",
       "      <td>NB</td>\n",
       "      <td>LEMLE &amp; WOLFF CONSTR CORP</td>\n",
       "      <td>ISSUED</td>\n",
       "    </tr>\n",
       "    <tr>\n",
       "      <th>...</th>\n",
       "      <td>...</td>\n",
       "      <td>...</td>\n",
       "      <td>...</td>\n",
       "    </tr>\n",
       "    <tr>\n",
       "      <th>2113</th>\n",
       "      <td>NB</td>\n",
       "      <td>M.N.C. GENERAL CONTR CORP</td>\n",
       "      <td>IN PROCESS</td>\n",
       "    </tr>\n",
       "    <tr>\n",
       "      <th>2114</th>\n",
       "      <td>NB</td>\n",
       "      <td>M W MANAGEMENT &amp; DEV CORP</td>\n",
       "      <td>RE-ISSUED</td>\n",
       "    </tr>\n",
       "    <tr>\n",
       "      <th>2115</th>\n",
       "      <td>NB</td>\n",
       "      <td>ZOITCO CONSTRUCTION CORP</td>\n",
       "      <td>ISSUED</td>\n",
       "    </tr>\n",
       "    <tr>\n",
       "      <th>2116</th>\n",
       "      <td>NB</td>\n",
       "      <td>K'S CONSTRUCTION NY INC</td>\n",
       "      <td>ISSUED</td>\n",
       "    </tr>\n",
       "    <tr>\n",
       "      <th>2117</th>\n",
       "      <td>NB</td>\n",
       "      <td>HP BUILDING MANAGEMENT IN</td>\n",
       "      <td>IN PROCESS</td>\n",
       "    </tr>\n",
       "  </tbody>\n",
       "</table>\n",
       "<p>2118 rows × 3 columns</p>\n",
       "</div>"
      ],
      "text/plain": [
       "     permit_type   permittees_business_name permit_status\n",
       "0             NB  LOUIS PERL CONTRACTING LT        ISSUED\n",
       "1             NB  SUPREME BUILDERS & DEVELO        ISSUED\n",
       "2             NB   M. MELNICK & COMPANY INC        ISSUED\n",
       "3             NB           Y&L INTERIOR LLC        ISSUED\n",
       "4             NB  LEMLE & WOLFF CONSTR CORP        ISSUED\n",
       "...          ...                        ...           ...\n",
       "2113          NB  M.N.C. GENERAL CONTR CORP    IN PROCESS\n",
       "2114          NB  M W MANAGEMENT & DEV CORP     RE-ISSUED\n",
       "2115          NB   ZOITCO CONSTRUCTION CORP        ISSUED\n",
       "2116          NB    K'S CONSTRUCTION NY INC        ISSUED\n",
       "2117          NB  HP BUILDING MANAGEMENT IN    IN PROCESS\n",
       "\n",
       "[2118 rows x 3 columns]"
      ]
     },
     "execution_count": 66,
     "metadata": {},
     "output_type": "execute_result"
    }
   ],
   "source": [
    "# third, drop duplicate rows in dimension\n",
    "\n",
    "unique_row = [\"permit_type\",\"permittees_business_name\",\"permit_status\"]\n",
    "Permit_dim = Permit_dim.drop_duplicates(subset = unique_row, keep = 'first')\n",
    "Permit_dim = Permit_dim.reset_index(drop = True)\n",
    "Permit_dim"
   ]
  },
  {
   "cell_type": "code",
   "execution_count": 67,
   "id": "Ruxz3Yy1WfjZ",
   "metadata": {
    "ExecuteTime": {
     "end_time": "2022-11-07T03:35:37.955177Z",
     "start_time": "2022-11-07T03:35:37.934484Z"
    },
    "id": "Ruxz3Yy1WfjZ",
    "outputId": "b359962c-b4ce-461f-b453-5095959e95b8"
   },
   "outputs": [
    {
     "data": {
      "text/html": [
       "<div>\n",
       "<style scoped>\n",
       "    .dataframe tbody tr th:only-of-type {\n",
       "        vertical-align: middle;\n",
       "    }\n",
       "\n",
       "    .dataframe tbody tr th {\n",
       "        vertical-align: top;\n",
       "    }\n",
       "\n",
       "    .dataframe thead th {\n",
       "        text-align: right;\n",
       "    }\n",
       "</style>\n",
       "<table border=\"1\" class=\"dataframe\">\n",
       "  <thead>\n",
       "    <tr style=\"text-align: right;\">\n",
       "      <th></th>\n",
       "      <th>permit_id</th>\n",
       "      <th>permit_type</th>\n",
       "      <th>permittees_business_name</th>\n",
       "      <th>permit_status</th>\n",
       "    </tr>\n",
       "  </thead>\n",
       "  <tbody>\n",
       "    <tr>\n",
       "      <th>0</th>\n",
       "      <td>1000</td>\n",
       "      <td>NB</td>\n",
       "      <td>LOUIS PERL CONTRACTING LT</td>\n",
       "      <td>ISSUED</td>\n",
       "    </tr>\n",
       "    <tr>\n",
       "      <th>1</th>\n",
       "      <td>1001</td>\n",
       "      <td>NB</td>\n",
       "      <td>SUPREME BUILDERS &amp; DEVELO</td>\n",
       "      <td>ISSUED</td>\n",
       "    </tr>\n",
       "    <tr>\n",
       "      <th>2</th>\n",
       "      <td>1002</td>\n",
       "      <td>NB</td>\n",
       "      <td>M. MELNICK &amp; COMPANY INC</td>\n",
       "      <td>ISSUED</td>\n",
       "    </tr>\n",
       "    <tr>\n",
       "      <th>3</th>\n",
       "      <td>1003</td>\n",
       "      <td>NB</td>\n",
       "      <td>Y&amp;L INTERIOR LLC</td>\n",
       "      <td>ISSUED</td>\n",
       "    </tr>\n",
       "    <tr>\n",
       "      <th>4</th>\n",
       "      <td>1004</td>\n",
       "      <td>NB</td>\n",
       "      <td>LEMLE &amp; WOLFF CONSTR CORP</td>\n",
       "      <td>ISSUED</td>\n",
       "    </tr>\n",
       "    <tr>\n",
       "      <th>...</th>\n",
       "      <td>...</td>\n",
       "      <td>...</td>\n",
       "      <td>...</td>\n",
       "      <td>...</td>\n",
       "    </tr>\n",
       "    <tr>\n",
       "      <th>2113</th>\n",
       "      <td>3113</td>\n",
       "      <td>NB</td>\n",
       "      <td>M.N.C. GENERAL CONTR CORP</td>\n",
       "      <td>IN PROCESS</td>\n",
       "    </tr>\n",
       "    <tr>\n",
       "      <th>2114</th>\n",
       "      <td>3114</td>\n",
       "      <td>NB</td>\n",
       "      <td>M W MANAGEMENT &amp; DEV CORP</td>\n",
       "      <td>RE-ISSUED</td>\n",
       "    </tr>\n",
       "    <tr>\n",
       "      <th>2115</th>\n",
       "      <td>3115</td>\n",
       "      <td>NB</td>\n",
       "      <td>ZOITCO CONSTRUCTION CORP</td>\n",
       "      <td>ISSUED</td>\n",
       "    </tr>\n",
       "    <tr>\n",
       "      <th>2116</th>\n",
       "      <td>3116</td>\n",
       "      <td>NB</td>\n",
       "      <td>K'S CONSTRUCTION NY INC</td>\n",
       "      <td>ISSUED</td>\n",
       "    </tr>\n",
       "    <tr>\n",
       "      <th>2117</th>\n",
       "      <td>3117</td>\n",
       "      <td>NB</td>\n",
       "      <td>HP BUILDING MANAGEMENT IN</td>\n",
       "      <td>IN PROCESS</td>\n",
       "    </tr>\n",
       "  </tbody>\n",
       "</table>\n",
       "<p>2118 rows × 4 columns</p>\n",
       "</div>"
      ],
      "text/plain": [
       "      permit_id permit_type   permittees_business_name permit_status\n",
       "0          1000          NB  LOUIS PERL CONTRACTING LT        ISSUED\n",
       "1          1001          NB  SUPREME BUILDERS & DEVELO        ISSUED\n",
       "2          1002          NB   M. MELNICK & COMPANY INC        ISSUED\n",
       "3          1003          NB           Y&L INTERIOR LLC        ISSUED\n",
       "4          1004          NB  LEMLE & WOLFF CONSTR CORP        ISSUED\n",
       "...         ...         ...                        ...           ...\n",
       "2113       3113          NB  M.N.C. GENERAL CONTR CORP    IN PROCESS\n",
       "2114       3114          NB  M W MANAGEMENT & DEV CORP     RE-ISSUED\n",
       "2115       3115          NB   ZOITCO CONSTRUCTION CORP        ISSUED\n",
       "2116       3116          NB    K'S CONSTRUCTION NY INC        ISSUED\n",
       "2117       3117          NB  HP BUILDING MANAGEMENT IN    IN PROCESS\n",
       "\n",
       "[2118 rows x 4 columns]"
      ]
     },
     "execution_count": 67,
     "metadata": {},
     "output_type": "execute_result"
    }
   ],
   "source": [
    "# fourth, add permit_id as a surrogate key\n",
    "\n",
    "Permit_dim.insert(0, 'permit_id', range(1000, 1000 + len(Permit_dim)))\n",
    "Permit_dim"
   ]
  },
  {
   "cell_type": "code",
   "execution_count": 68,
   "id": "iM9bPBr6WnMy",
   "metadata": {
    "ExecuteTime": {
     "end_time": "2022-11-07T03:36:11.410888Z",
     "start_time": "2022-11-07T03:36:11.372065Z"
    },
    "id": "iM9bPBr6WnMy",
    "outputId": "64d9d634-2f64-4cee-91b3-ad9dbdccabbd"
   },
   "outputs": [
    {
     "data": {
      "text/html": [
       "<div>\n",
       "<style scoped>\n",
       "    .dataframe tbody tr th:only-of-type {\n",
       "        vertical-align: middle;\n",
       "    }\n",
       "\n",
       "    .dataframe tbody tr th {\n",
       "        vertical-align: top;\n",
       "    }\n",
       "\n",
       "    .dataframe thead th {\n",
       "        text-align: right;\n",
       "    }\n",
       "</style>\n",
       "<table border=\"1\" class=\"dataframe\">\n",
       "  <thead>\n",
       "    <tr style=\"text-align: right;\">\n",
       "      <th></th>\n",
       "      <th>borough</th>\n",
       "      <th>street</th>\n",
       "      <th>zip_code</th>\n",
       "      <th>bldg_type</th>\n",
       "      <th>permit_type</th>\n",
       "      <th>permit_status</th>\n",
       "      <th>permittees_business_name</th>\n",
       "      <th>date</th>\n",
       "      <th>latitude</th>\n",
       "      <th>longitude</th>\n",
       "      <th>year</th>\n",
       "      <th>median_housing_price</th>\n",
       "      <th>new_permit_quantity</th>\n",
       "      <th>location_id</th>\n",
       "      <th>date_id</th>\n",
       "      <th>permit_id</th>\n",
       "    </tr>\n",
       "  </thead>\n",
       "  <tbody>\n",
       "    <tr>\n",
       "      <th>0</th>\n",
       "      <td>BROOKLYN</td>\n",
       "      <td>EAST 22 STREET</td>\n",
       "      <td>11210</td>\n",
       "      <td>1</td>\n",
       "      <td>NB</td>\n",
       "      <td>ISSUED</td>\n",
       "      <td>LOUIS PERL CONTRACTING LT</td>\n",
       "      <td>2019-09-24</td>\n",
       "      <td>40.622307</td>\n",
       "      <td>-73.953736</td>\n",
       "      <td>2019</td>\n",
       "      <td>772000</td>\n",
       "      <td>1</td>\n",
       "      <td>1</td>\n",
       "      <td>20190924</td>\n",
       "      <td>1000</td>\n",
       "    </tr>\n",
       "    <tr>\n",
       "      <th>1</th>\n",
       "      <td>BROOKLYN</td>\n",
       "      <td>FLATBUSH AVENUE</td>\n",
       "      <td>11210</td>\n",
       "      <td>2</td>\n",
       "      <td>NB</td>\n",
       "      <td>ISSUED</td>\n",
       "      <td>SUPREME BUILDERS &amp; DEVELO</td>\n",
       "      <td>2019-05-10</td>\n",
       "      <td>40.637919</td>\n",
       "      <td>-73.953055</td>\n",
       "      <td>2019</td>\n",
       "      <td>772000</td>\n",
       "      <td>1</td>\n",
       "      <td>2</td>\n",
       "      <td>20190510</td>\n",
       "      <td>1001</td>\n",
       "    </tr>\n",
       "    <tr>\n",
       "      <th>2</th>\n",
       "      <td>BROOKLYN</td>\n",
       "      <td>ROGERS AVENUE</td>\n",
       "      <td>11210</td>\n",
       "      <td>2</td>\n",
       "      <td>NB</td>\n",
       "      <td>ISSUED</td>\n",
       "      <td>M. MELNICK &amp; COMPANY INC</td>\n",
       "      <td>2019-03-28</td>\n",
       "      <td>40.636955</td>\n",
       "      <td>-73.950995</td>\n",
       "      <td>2019</td>\n",
       "      <td>772000</td>\n",
       "      <td>1</td>\n",
       "      <td>3</td>\n",
       "      <td>20190328</td>\n",
       "      <td>1002</td>\n",
       "    </tr>\n",
       "    <tr>\n",
       "      <th>3</th>\n",
       "      <td>BROOKLYN</td>\n",
       "      <td>EAST 32 STREET</td>\n",
       "      <td>11210</td>\n",
       "      <td>2</td>\n",
       "      <td>NB</td>\n",
       "      <td>ISSUED</td>\n",
       "      <td>Y&amp;L INTERIOR LLC</td>\n",
       "      <td>2019-04-30</td>\n",
       "      <td>40.633264</td>\n",
       "      <td>-73.945784</td>\n",
       "      <td>2019</td>\n",
       "      <td>772000</td>\n",
       "      <td>1</td>\n",
       "      <td>4</td>\n",
       "      <td>20190430</td>\n",
       "      <td>1003</td>\n",
       "    </tr>\n",
       "    <tr>\n",
       "      <th>4</th>\n",
       "      <td>BROOKLYN</td>\n",
       "      <td>NEW YORK AVENUE</td>\n",
       "      <td>11210</td>\n",
       "      <td>2</td>\n",
       "      <td>NB</td>\n",
       "      <td>ISSUED</td>\n",
       "      <td>LEMLE &amp; WOLFF CONSTR CORP</td>\n",
       "      <td>2019-01-03</td>\n",
       "      <td>40.636835</td>\n",
       "      <td>-73.945176</td>\n",
       "      <td>2019</td>\n",
       "      <td>772000</td>\n",
       "      <td>1</td>\n",
       "      <td>5</td>\n",
       "      <td>20190103</td>\n",
       "      <td>1004</td>\n",
       "    </tr>\n",
       "    <tr>\n",
       "      <th>5</th>\n",
       "      <td>BROOKLYN</td>\n",
       "      <td>ROGERS AVENUE</td>\n",
       "      <td>11210</td>\n",
       "      <td>2</td>\n",
       "      <td>NB</td>\n",
       "      <td>ISSUED</td>\n",
       "      <td>M. MELNICK &amp; COMPANY INC</td>\n",
       "      <td>2019-01-04</td>\n",
       "      <td>40.636955</td>\n",
       "      <td>-73.950995</td>\n",
       "      <td>2019</td>\n",
       "      <td>772000</td>\n",
       "      <td>1</td>\n",
       "      <td>3</td>\n",
       "      <td>20190104</td>\n",
       "      <td>1002</td>\n",
       "    </tr>\n",
       "    <tr>\n",
       "      <th>6</th>\n",
       "      <td>BROOKLYN</td>\n",
       "      <td>EAST 32ND ST</td>\n",
       "      <td>11210</td>\n",
       "      <td>2</td>\n",
       "      <td>NB</td>\n",
       "      <td>ISSUED</td>\n",
       "      <td>SUPERB PROPERTY MNG'T</td>\n",
       "      <td>2019-05-07</td>\n",
       "      <td>40.633299</td>\n",
       "      <td>-73.945770</td>\n",
       "      <td>2019</td>\n",
       "      <td>772000</td>\n",
       "      <td>1</td>\n",
       "      <td>6</td>\n",
       "      <td>20190507</td>\n",
       "      <td>1005</td>\n",
       "    </tr>\n",
       "    <tr>\n",
       "      <th>7</th>\n",
       "      <td>BROOKLYN</td>\n",
       "      <td>EAST 35TH STREET</td>\n",
       "      <td>11210</td>\n",
       "      <td>2</td>\n",
       "      <td>NB</td>\n",
       "      <td>ISSUED</td>\n",
       "      <td>SINGLA CONCEPTS INC</td>\n",
       "      <td>2019-03-14</td>\n",
       "      <td>40.633586</td>\n",
       "      <td>-73.942913</td>\n",
       "      <td>2019</td>\n",
       "      <td>772000</td>\n",
       "      <td>1</td>\n",
       "      <td>7</td>\n",
       "      <td>20190314</td>\n",
       "      <td>1006</td>\n",
       "    </tr>\n",
       "    <tr>\n",
       "      <th>8</th>\n",
       "      <td>BROOKLYN</td>\n",
       "      <td>EAST 31 STREET</td>\n",
       "      <td>11210</td>\n",
       "      <td>1</td>\n",
       "      <td>NB</td>\n",
       "      <td>ISSUED</td>\n",
       "      <td>RELIANT BUILDERS CORP</td>\n",
       "      <td>2019-05-15</td>\n",
       "      <td>40.623316</td>\n",
       "      <td>-73.945209</td>\n",
       "      <td>2019</td>\n",
       "      <td>772000</td>\n",
       "      <td>1</td>\n",
       "      <td>8</td>\n",
       "      <td>20190515</td>\n",
       "      <td>1007</td>\n",
       "    </tr>\n",
       "    <tr>\n",
       "      <th>9</th>\n",
       "      <td>BROOKLYN</td>\n",
       "      <td>NEW YORK AVENUE</td>\n",
       "      <td>11210</td>\n",
       "      <td>2</td>\n",
       "      <td>NB</td>\n",
       "      <td>ISSUED</td>\n",
       "      <td>BIG DREAM DEVELOPERS LLC</td>\n",
       "      <td>2019-05-15</td>\n",
       "      <td>40.634770</td>\n",
       "      <td>-73.944933</td>\n",
       "      <td>2019</td>\n",
       "      <td>772000</td>\n",
       "      <td>1</td>\n",
       "      <td>9</td>\n",
       "      <td>20190515</td>\n",
       "      <td>1008</td>\n",
       "    </tr>\n",
       "  </tbody>\n",
       "</table>\n",
       "</div>"
      ],
      "text/plain": [
       "    borough            street  zip_code bldg_type permit_type permit_status  \\\n",
       "0  BROOKLYN    EAST 22 STREET     11210         1          NB        ISSUED   \n",
       "1  BROOKLYN   FLATBUSH AVENUE     11210         2          NB        ISSUED   \n",
       "2  BROOKLYN     ROGERS AVENUE     11210         2          NB        ISSUED   \n",
       "3  BROOKLYN    EAST 32 STREET     11210         2          NB        ISSUED   \n",
       "4  BROOKLYN   NEW YORK AVENUE     11210         2          NB        ISSUED   \n",
       "5  BROOKLYN     ROGERS AVENUE     11210         2          NB        ISSUED   \n",
       "6  BROOKLYN      EAST 32ND ST     11210         2          NB        ISSUED   \n",
       "7  BROOKLYN  EAST 35TH STREET     11210         2          NB        ISSUED   \n",
       "8  BROOKLYN    EAST 31 STREET     11210         1          NB        ISSUED   \n",
       "9  BROOKLYN   NEW YORK AVENUE     11210         2          NB        ISSUED   \n",
       "\n",
       "    permittees_business_name       date   latitude  longitude  year  \\\n",
       "0  LOUIS PERL CONTRACTING LT 2019-09-24  40.622307 -73.953736  2019   \n",
       "1  SUPREME BUILDERS & DEVELO 2019-05-10  40.637919 -73.953055  2019   \n",
       "2   M. MELNICK & COMPANY INC 2019-03-28  40.636955 -73.950995  2019   \n",
       "3           Y&L INTERIOR LLC 2019-04-30  40.633264 -73.945784  2019   \n",
       "4  LEMLE & WOLFF CONSTR CORP 2019-01-03  40.636835 -73.945176  2019   \n",
       "5   M. MELNICK & COMPANY INC 2019-01-04  40.636955 -73.950995  2019   \n",
       "6      SUPERB PROPERTY MNG'T 2019-05-07  40.633299 -73.945770  2019   \n",
       "7        SINGLA CONCEPTS INC 2019-03-14  40.633586 -73.942913  2019   \n",
       "8      RELIANT BUILDERS CORP 2019-05-15  40.623316 -73.945209  2019   \n",
       "9   BIG DREAM DEVELOPERS LLC 2019-05-15  40.634770 -73.944933  2019   \n",
       "\n",
       "   median_housing_price  new_permit_quantity  location_id   date_id  permit_id  \n",
       "0                772000                    1            1  20190924       1000  \n",
       "1                772000                    1            2  20190510       1001  \n",
       "2                772000                    1            3  20190328       1002  \n",
       "3                772000                    1            4  20190430       1003  \n",
       "4                772000                    1            5  20190103       1004  \n",
       "5                772000                    1            3  20190104       1002  \n",
       "6                772000                    1            6  20190507       1005  \n",
       "7                772000                    1            7  20190314       1006  \n",
       "8                772000                    1            8  20190515       1007  \n",
       "9                772000                    1            9  20190515       1008  "
      ]
     },
     "execution_count": 68,
     "metadata": {},
     "output_type": "execute_result"
    }
   ],
   "source": [
    "#Merge\n",
    "data = data.merge(Permit_dim,\n",
    "                  left_on = unique_row,\n",
    "                  right_on = unique_row,\n",
    "                  how = 'left')\n",
    "\n",
    "data.head(10)"
   ]
  },
  {
   "cell_type": "markdown",
   "id": "0xtogKPKXxVm",
   "metadata": {
    "id": "0xtogKPKXxVm"
   },
   "source": [
    "### Step 9: Creating Fact Table"
   ]
  },
  {
   "cell_type": "code",
   "execution_count": 69,
   "id": "MdwQaph1Wqz-",
   "metadata": {
    "ExecuteTime": {
     "end_time": "2022-11-07T03:38:55.247389Z",
     "start_time": "2022-11-07T03:38:55.222826Z"
    },
    "id": "MdwQaph1Wqz-",
    "outputId": "cddf8d02-22cf-4b7c-d8b7-5ed70721c424"
   },
   "outputs": [
    {
     "data": {
      "text/html": [
       "<div>\n",
       "<style scoped>\n",
       "    .dataframe tbody tr th:only-of-type {\n",
       "        vertical-align: middle;\n",
       "    }\n",
       "\n",
       "    .dataframe tbody tr th {\n",
       "        vertical-align: top;\n",
       "    }\n",
       "\n",
       "    .dataframe thead th {\n",
       "        text-align: right;\n",
       "    }\n",
       "</style>\n",
       "<table border=\"1\" class=\"dataframe\">\n",
       "  <thead>\n",
       "    <tr style=\"text-align: right;\">\n",
       "      <th></th>\n",
       "      <th>permit_id</th>\n",
       "      <th>date_id</th>\n",
       "      <th>location_id</th>\n",
       "      <th>median_housing_price</th>\n",
       "      <th>new_permit_quantity</th>\n",
       "    </tr>\n",
       "  </thead>\n",
       "  <tbody>\n",
       "    <tr>\n",
       "      <th>0</th>\n",
       "      <td>1000</td>\n",
       "      <td>20190924</td>\n",
       "      <td>1</td>\n",
       "      <td>772000</td>\n",
       "      <td>1</td>\n",
       "    </tr>\n",
       "    <tr>\n",
       "      <th>1</th>\n",
       "      <td>1001</td>\n",
       "      <td>20190510</td>\n",
       "      <td>2</td>\n",
       "      <td>772000</td>\n",
       "      <td>1</td>\n",
       "    </tr>\n",
       "    <tr>\n",
       "      <th>2</th>\n",
       "      <td>1002</td>\n",
       "      <td>20190328</td>\n",
       "      <td>3</td>\n",
       "      <td>772000</td>\n",
       "      <td>1</td>\n",
       "    </tr>\n",
       "    <tr>\n",
       "      <th>3</th>\n",
       "      <td>1003</td>\n",
       "      <td>20190430</td>\n",
       "      <td>4</td>\n",
       "      <td>772000</td>\n",
       "      <td>1</td>\n",
       "    </tr>\n",
       "    <tr>\n",
       "      <th>4</th>\n",
       "      <td>1004</td>\n",
       "      <td>20190103</td>\n",
       "      <td>5</td>\n",
       "      <td>772000</td>\n",
       "      <td>1</td>\n",
       "    </tr>\n",
       "    <tr>\n",
       "      <th>...</th>\n",
       "      <td>...</td>\n",
       "      <td>...</td>\n",
       "      <td>...</td>\n",
       "      <td>...</td>\n",
       "      <td>...</td>\n",
       "    </tr>\n",
       "    <tr>\n",
       "      <th>19217</th>\n",
       "      <td>2630</td>\n",
       "      <td>20210616</td>\n",
       "      <td>4741</td>\n",
       "      <td>450000</td>\n",
       "      <td>1</td>\n",
       "    </tr>\n",
       "    <tr>\n",
       "      <th>19218</th>\n",
       "      <td>1418</td>\n",
       "      <td>20210803</td>\n",
       "      <td>7216</td>\n",
       "      <td>465000</td>\n",
       "      <td>1</td>\n",
       "    </tr>\n",
       "    <tr>\n",
       "      <th>19219</th>\n",
       "      <td>2036</td>\n",
       "      <td>20210930</td>\n",
       "      <td>7217</td>\n",
       "      <td>465000</td>\n",
       "      <td>1</td>\n",
       "    </tr>\n",
       "    <tr>\n",
       "      <th>19220</th>\n",
       "      <td>1418</td>\n",
       "      <td>20211012</td>\n",
       "      <td>7216</td>\n",
       "      <td>465000</td>\n",
       "      <td>1</td>\n",
       "    </tr>\n",
       "    <tr>\n",
       "      <th>19221</th>\n",
       "      <td>1360</td>\n",
       "      <td>20211021</td>\n",
       "      <td>7218</td>\n",
       "      <td>465000</td>\n",
       "      <td>1</td>\n",
       "    </tr>\n",
       "  </tbody>\n",
       "</table>\n",
       "<p>19222 rows × 5 columns</p>\n",
       "</div>"
      ],
      "text/plain": [
       "       permit_id   date_id  location_id  median_housing_price  \\\n",
       "0           1000  20190924            1                772000   \n",
       "1           1001  20190510            2                772000   \n",
       "2           1002  20190328            3                772000   \n",
       "3           1003  20190430            4                772000   \n",
       "4           1004  20190103            5                772000   \n",
       "...          ...       ...          ...                   ...   \n",
       "19217       2630  20210616         4741                450000   \n",
       "19218       1418  20210803         7216                465000   \n",
       "19219       2036  20210930         7217                465000   \n",
       "19220       1418  20211012         7216                465000   \n",
       "19221       1360  20211021         7218                465000   \n",
       "\n",
       "       new_permit_quantity  \n",
       "0                        1  \n",
       "1                        1  \n",
       "2                        1  \n",
       "3                        1  \n",
       "4                        1  \n",
       "...                    ...  \n",
       "19217                    1  \n",
       "19218                    1  \n",
       "19219                    1  \n",
       "19220                    1  \n",
       "19221                    1  \n",
       "\n",
       "[19222 rows x 5 columns]"
      ]
     },
     "execution_count": 69,
     "metadata": {},
     "output_type": "execute_result"
    }
   ],
   "source": [
    "# take a subset of fact_table for only the needed columns: which are keys and measures\n",
    "\n",
    "New_building_permits_facts = data[['permit_id','date_id','location_id','median_housing_price','new_permit_quantity']]\n",
    "New_building_permits_facts"
   ]
  },
  {
   "cell_type": "markdown",
   "id": "xgFTMozUWu5Y",
   "metadata": {
    "id": "xgFTMozUWu5Y"
   },
   "source": [
    "### Step 10: Load to BigQuery"
   ]
  },
  {
   "cell_type": "code",
   "execution_count": 70,
   "id": "e6c4c4e6",
   "metadata": {},
   "outputs": [],
   "source": [
    "New_building_permits_facts.to_csv(\"New_building_permits_facts.csv\",index=False)"
   ]
  },
  {
   "cell_type": "code",
   "execution_count": 71,
   "id": "LUdeO6GVWuGk",
   "metadata": {
    "ExecuteTime": {
     "end_time": "2022-11-07T03:39:06.644927Z",
     "start_time": "2022-11-07T03:39:06.633564Z"
    },
    "id": "LUdeO6GVWuGk"
   },
   "outputs": [],
   "source": [
    "# create a function to load dataframes to BigQuery\n",
    "\n",
    "def load_table_to_bigquery(df,\n",
    "                          table_name,\n",
    "                          dataset_id):\n",
    "\n",
    "    dataset_id = dataset_id #change 301800 to match your project id\n",
    "\n",
    "    dataset_ref = bigquery_client.dataset(dataset_id)\n",
    "    job_config = bigquery.LoadJobConfig()\n",
    "    job_config.autodetect = True\n",
    "    job_config.write_disposition = \"WRITE_TRUNCATE\"\n",
    "\n",
    "    upload_table_name = f\"{dataset_id}.{table_name}\"\n",
    "    \n",
    "    load_job = bigquery_client.load_table_from_dataframe(df,\n",
    "                                                upload_table_name,\n",
    "                                                job_config = job_config)\n",
    "        \n",
    "    print(f\"completed job {load_job}\")"
   ]
  },
  {
   "cell_type": "code",
   "execution_count": 72,
   "id": "WXtGjBZQW96q",
   "metadata": {
    "ExecuteTime": {
     "end_time": "2022-11-07T03:39:15.623350Z",
     "start_time": "2022-11-07T03:39:14.336136Z"
    },
    "id": "WXtGjBZQW96q",
    "outputId": "284ed49a-848a-48ca-f90d-c5d821012edc"
   },
   "outputs": [
    {
     "name": "stdout",
     "output_type": "stream",
     "text": [
      "completed job LoadJob<project=cis-9440-361019, location=US, id=b13fa57a-437d-431e-b26f-0d4282c37a93>\n"
     ]
    }
   ],
   "source": [
    "#Sending Permit_dim table\n",
    "\n",
    "load_table_to_bigquery(df = Permit_dim,\n",
    "                       table_name = \"Permit_dim\",\n",
    "                          dataset_id = dataset_id)"
   ]
  },
  {
   "cell_type": "code",
   "execution_count": 73,
   "id": "72adbf84",
   "metadata": {
    "ExecuteTime": {
     "end_time": "2022-11-07T03:39:17.686154Z",
     "start_time": "2022-11-07T03:39:16.570624Z"
    },
    "id": "72adbf84",
    "outputId": "7cb08897-8642-441e-d314-53b44b38e897",
    "scrolled": true
   },
   "outputs": [
    {
     "name": "stdout",
     "output_type": "stream",
     "text": [
      "completed job LoadJob<project=cis-9440-361019, location=US, id=efc08187-a4cf-4c96-a361-baf7136cad27>\n"
     ]
    }
   ],
   "source": [
    "#Sending Date_dim table\n",
    "\n",
    "load_table_to_bigquery(df = dateDim,\n",
    "                       table_name = \"Date_dim\",\n",
    "                          dataset_id = dataset_id)"
   ]
  },
  {
   "cell_type": "code",
   "execution_count": 74,
   "id": "35faf5d4",
   "metadata": {
    "ExecuteTime": {
     "end_time": "2022-11-07T03:39:19.620731Z",
     "start_time": "2022-11-07T03:39:18.607300Z"
    },
    "id": "35faf5d4",
    "outputId": "172b7eeb-7267-495b-a3ee-7f33d2d9fdd2"
   },
   "outputs": [
    {
     "name": "stdout",
     "output_type": "stream",
     "text": [
      "completed job LoadJob<project=cis-9440-361019, location=US, id=76a2875a-1323-40ad-97fa-c23da0e54fbd>\n"
     ]
    }
   ],
   "source": [
    "#Sending Location_dim table\n",
    "\n",
    "load_table_to_bigquery(df = Location_dim,\n",
    "                       table_name = \"Location_dim\",\n",
    "                          dataset_id = dataset_id)"
   ]
  },
  {
   "cell_type": "code",
   "execution_count": 75,
   "id": "Rvr8AbkkXBnC",
   "metadata": {
    "ExecuteTime": {
     "end_time": "2022-11-07T03:39:35.492309Z",
     "start_time": "2022-11-07T03:39:34.416474Z"
    },
    "id": "Rvr8AbkkXBnC",
    "outputId": "054b11f5-3155-4949-c91c-c21e9a4c7371"
   },
   "outputs": [
    {
     "name": "stdout",
     "output_type": "stream",
     "text": [
      "completed job LoadJob<project=cis-9440-361019, location=US, id=46fd2e21-80f9-4f2b-919d-4816afebfa2b>\n"
     ]
    }
   ],
   "source": [
    "#Sending Fact table\n",
    "\n",
    "load_table_to_bigquery(df = New_building_permits_facts,\n",
    "                       table_name = \"New_building_permits_facts\",\n",
    "                          dataset_id = dataset_id)"
   ]
  },
  {
   "cell_type": "code",
   "execution_count": null,
   "id": "5b5a3fae",
   "metadata": {
    "id": "5b5a3fae"
   },
   "outputs": [],
   "source": []
  }
 ],
 "metadata": {
  "colab": {
   "collapsed_sections": [],
   "provenance": []
  },
  "kernelspec": {
   "display_name": "Python 3 (ipykernel)",
   "language": "python",
   "name": "python3"
  },
  "language_info": {
   "codemirror_mode": {
    "name": "ipython",
    "version": 3
   },
   "file_extension": ".py",
   "mimetype": "text/x-python",
   "name": "python",
   "nbconvert_exporter": "python",
   "pygments_lexer": "ipython3",
   "version": "3.9.12"
  },
  "toc": {
   "base_numbering": 1,
   "nav_menu": {},
   "number_sections": true,
   "sideBar": true,
   "skip_h1_title": false,
   "title_cell": "Table of Contents",
   "title_sidebar": "Contents",
   "toc_cell": false,
   "toc_position": {
    "height": "calc(100% - 180px)",
    "left": "10px",
    "top": "150px",
    "width": "274.908px"
   },
   "toc_section_display": true,
   "toc_window_display": true
  }
 },
 "nbformat": 4,
 "nbformat_minor": 5
}
